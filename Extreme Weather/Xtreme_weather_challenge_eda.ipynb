{
 "cells": [
  {
   "cell_type": "markdown",
   "metadata": {
    "id": "7x1NPDBKKvvF"
   },
   "source": [
    "**Xtreme Weather Forecasting**\n",
    "\n",
    "The task is to predict the arithmetic mean of the maximum and minimum temperature over the next 14 days, for each location and start date.\n",
    "\n",
    "Dataset : https://www.kaggle.com/competitions/widsdatathon2023/data\n"
   ]
  },
  {
   "cell_type": "code",
   "execution_count": null,
   "metadata": {
    "colab": {
     "base_uri": "https://localhost:8080/"
    },
    "id": "yAL2tkx5MIpM",
    "outputId": "aaac5eaf-1023-465d-f5fa-f69248611351"
   },
   "outputs": [],
   "source": [
    "\"\"\"\n",
    "# mounting GDrive to connect csv file\n",
    "from google.colab import drive\n",
    "drive.mount('/content/gdrive')\n",
    "\n",
    "\"\"\""
   ]
  },
  {
   "cell_type": "code",
   "execution_count": null,
   "metadata": {
    "id": "qtKE_LN6O3I4"
   },
   "outputs": [],
   "source": [
    "# import libraries\n",
    "import numpy as np\n",
    "import pandas as pd  \n",
    "from scipy import stats\n",
    "import seaborn as sns\n",
    "import matplotlib.pyplot as plt\n",
    "import math\n",
    "from sklearn.impute import SimpleImputer\n",
    "import missingno as msno  \n",
    "#ignore warnings\n",
    "import warnings\n",
    "warnings.filterwarnings('ignore')\n"
   ]
  },
  {
   "cell_type": "code",
   "execution_count": null,
   "metadata": {
    "colab": {
     "base_uri": "https://localhost:8080/",
     "height": 369
    },
    "id": "L9P8OMmBUm8Q",
    "outputId": "456907ac-81ee-43b0-c611-3d84fd69a77f"
   },
   "outputs": [],
   "source": [
    "#import test dataset\n",
    "#test_df = pd.read_csv('/content/gdrive/My Drive/Omdena project/test_data.csv')\n",
    "test_df = pd.read_csv('test_data.csv')\n",
    "test_df.head()"
   ]
  },
  {
   "cell_type": "code",
   "execution_count": null,
   "metadata": {
    "colab": {
     "base_uri": "https://localhost:8080/",
     "height": 369
    },
    "id": "ZcS2gMc7O933",
    "outputId": "db3958e6-2a13-4876-f8b3-54d069b7dfad"
   },
   "outputs": [],
   "source": [
    "#import train dataset\n",
    "#train_df = pd.read_csv('/content/gdrive/My Drive/Omdena project/train_data.csv')\n",
    "train_df = pd.read_csv('train_data.csv')\n",
    "train_df.head()"
   ]
  },
  {
   "cell_type": "code",
   "execution_count": null,
   "metadata": {
    "colab": {
     "base_uri": "https://localhost:8080/"
    },
    "id": "ULxKh-Prg5bV",
    "outputId": "6c067039-a9fb-461b-9ab5-4354a7342357"
   },
   "outputs": [],
   "source": [
    "train_df .info()"
   ]
  },
  {
   "cell_type": "code",
   "execution_count": null,
   "metadata": {
    "colab": {
     "base_uri": "https://localhost:8080/"
    },
    "id": "j1mL9JRoiWTS",
    "outputId": "73ef5d2f-1072-43f4-e4b8-68d87377a8fa"
   },
   "outputs": [],
   "source": [
    "train_df.shape"
   ]
  },
  {
   "cell_type": "code",
   "execution_count": null,
   "metadata": {
    "colab": {
     "base_uri": "https://localhost:8080/"
    },
    "id": "0bZe0w_4jLek",
    "outputId": "4f71e37d-d9f1-44dd-8167-2c33288385c2"
   },
   "outputs": [],
   "source": [
    "train_df.columns"
   ]
  },
  {
   "cell_type": "markdown",
   "metadata": {
    "id": "EiRsNFAvhHex"
   },
   "source": [
    "**Description of Column Namings**\n",
    "\n",
    "lat: latitude of location (anonymized)\n",
    "\n",
    "lon: longitude of location (anonymized)\n",
    "\n",
    "startdate: startdate of the 14 day period\n",
    "\n",
    "sst: sea surface temperature\n",
    "\n",
    "icec: sea ice concentration\n",
    "\n",
    "cancm30, cancm40, ccsm30, ccsm40, cfsv20, gfdlflora0, gfdlflorb0, gfdl0, nasa0, nmme0mean: most recent forecasts from weather models\n",
    "\n",
    "contest-slp-14d: file containing sea level pressure (slp)\n",
    "\n",
    "nmme0-tmp2m-34w: file containing most recent monthly NMME model forecasts for tmp2m (cancm30,cancm40, ccsm30, ccsm40, cfsv20, gfdlflora0, gfdlflorb0, gfdl0, nasa0,nmme0mean) and average forecast across those models (nmme0mean)\n",
    "\n",
    "contest-pres-sfc-gauss-14d: pressure\n",
    "\n",
    "mjo1d: MJO phase and amplitude\n",
    "\n",
    "contest-pevpr-sfc-gauss-14d: potential evaporation\n",
    "\n",
    "contest-wind-h850-14d: geopotential height at 850 millibars\n",
    "\n",
    "contest-wind-h500-14d: geopotential height at 500 millibars\n",
    "\n",
    "contest-wind-h100-14d: geopotential height at 100 millibars\n",
    "\n",
    "contest-wind-h10-14d: geopotential height at 10 millibars\n",
    "\n",
    "contest-wind-vwnd-925-14d: longitudinal wind at 925 millibars\n",
    "\n",
    "contest-wind-vwnd-250-14d: longitudinal wind at 250 millibars\n",
    "\n",
    "contest-wind-uwnd-250-14d: zonal wind at 250 millibars\n",
    "\n",
    "contest-wind-uwnd-925-14d: zonal wind at 925 millibars\n",
    "\n",
    "contest-rhum-sig995-14d: relative humidity\n",
    "\n",
    "contest-prwtr-eatm-14d: precipitable water for entire atmosphere\n",
    "\n",
    "nmme-prate-34w: weeks 3-4 weighted average of monthly NMME model forecasts for precipitation\n",
    "\n",
    "nmme-prate-56w: weeks 5-6 weighted average of monthly NMME model forecasts for precipitation\n",
    "\n",
    "nmme0-prate-56w: weeks 5-6 weighted average of most recent monthly NMME model forecasts for precipitation\n",
    "\n",
    "nmme0-prate-34w: weeks 3-4 weighted average of most recent monthly NMME model forecasts for precipitation\n",
    "\n",
    "nmme-tmp2m-34w: weeks 3-4 weighted average of most recent monthly NMME model forecasts for target label, contest-tmp2m-14d__tmp2m\n",
    "\n",
    "nmme-tmp2m-56w: weeks 5-6 weighted average of monthly NMME model forecasts for target label, contest-tmp2m-14d__tmp2m\n",
    "\n",
    "mei: MEI (mei), MEI rank (rank), and Niño Index Phase (nip)\n",
    "\n",
    "elevation: elevation\n",
    "\n",
    "contest-precip-14d: measured precipitation\n",
    "\n",
    "climateregions: Köppen-Geigerclimateclassifications\n",
    "\n"
   ]
  },
  {
   "cell_type": "markdown",
   "metadata": {
    "id": "fsoDXTxj7jhA"
   },
   "source": [
    "**Target Variable**"
   ]
  },
  {
   "cell_type": "code",
   "execution_count": null,
   "metadata": {
    "colab": {
     "base_uri": "https://localhost:8080/"
    },
    "id": "rliom6MQ7MVE",
    "outputId": "59d51c00-8ec2-4da0-a9b9-711a832e7894"
   },
   "outputs": [],
   "source": [
    "target = [c for c in train_df.columns if c not in test_df.columns][0]\n",
    "print(target)"
   ]
  },
  {
   "cell_type": "markdown",
   "metadata": {
    "id": "RskIwtDDB79N"
   },
   "source": [
    "**CHECKING MISSING VALUES**"
   ]
  },
  {
   "cell_type": "code",
   "execution_count": null,
   "metadata": {
    "id": "-iBUUruwH18U"
   },
   "outputs": [],
   "source": [
    "def filter_na_cols(df):\n",
    "    count_na_df = df.isna().sum() \n",
    "    if count_na_df[count_na_df > 0].tolist():\n",
    "        return count_na_df[count_na_df > 0]\n",
    "    else:\n",
    "        return 'Clean dataset'"
   ]
  },
  {
   "cell_type": "code",
   "execution_count": null,
   "metadata": {
    "colab": {
     "base_uri": "https://localhost:8080/"
    },
    "id": "3PM4dYROH7lt",
    "outputId": "9152d764-d8cb-4897-97e2-ccbc9e38bc31"
   },
   "outputs": [],
   "source": [
    "filter_na_cols(train_df)"
   ]
  },
  {
   "cell_type": "markdown",
   "metadata": {
    "id": "EivDSHGioE5V"
   },
   "source": [
    "There are 8 Columns with missing data."
   ]
  },
  {
   "cell_type": "code",
   "execution_count": null,
   "metadata": {
    "colab": {
     "base_uri": "https://localhost:8080/",
     "height": 265
    },
    "id": "xRdRdc38IAxJ",
    "outputId": "a39212dd-2976-4d3a-ae08-ecedc38dd6e4"
   },
   "outputs": [],
   "source": [
    "filter_na_cols(train_df).sort_values().plot(kind='barh');"
   ]
  },
  {
   "cell_type": "code",
   "execution_count": null,
   "metadata": {
    "colab": {
     "base_uri": "https://localhost:8080/",
     "height": 488
    },
    "id": "fZOzQKiRz7x7",
    "outputId": "5589c382-1d5d-47dd-d95b-0bba9a159cfa"
   },
   "outputs": [],
   "source": [
    "null_values = train_df.isnull()\n",
    "sns.heatmap(null_values,cbar=False)\n",
    "plt.show()"
   ]
  },
  {
   "cell_type": "code",
   "execution_count": null,
   "metadata": {
    "colab": {
     "base_uri": "https://localhost:8080/",
     "height": 367
    },
    "id": "99vPDDpi4-ek",
    "outputId": "842756c0-0632-45c7-f772-f97b47459379"
   },
   "outputs": [],
   "source": [
    "train_df['startdate'] = pd.to_datetime(train_df['startdate']) \n",
    "train_df['month_year'] = train_df['startdate'].dt.to_period(\"M\").astype(str)\n",
    "ccsm30_missing_df = train_df[['nmme0-prate-34w__ccsm30','nmme0-prate-56w__ccsm30','nmme0-tmp2m-34w__ccsm30','ccsm30','startdate']]\n",
    "ccsm30_missing_df.set_index('startdate',inplace=True)\n",
    "ax1 = ccsm30_missing_df.plot(figsize=(16,5),linewidth=2, fontsize=12)\n",
    "ax1.set_title('CCSM30 Data')"
   ]
  },
  {
   "cell_type": "code",
   "execution_count": null,
   "metadata": {
    "colab": {
     "base_uri": "https://localhost:8080/",
     "height": 377
    },
    "id": "0Xb1mefF9vgY",
    "outputId": "fab48979-0ddb-4125-a24d-39ea4e5fb890"
   },
   "outputs": [],
   "source": [
    "ax1 = ccsm30_missing_df['2015-09-01':'2015-09-30'].plot(figsize=(16,5),linewidth=2, fontsize=12)\n",
    "ax1.set_title('CCSM30 Data')"
   ]
  },
  {
   "cell_type": "markdown",
   "metadata": {
    "id": "-ZQtp-6UCKKM"
   },
   "source": [
    "Most of the missing values are mainly from NMME CCSM30 models .Also most of the data are missing from same period of time. Its clear from the above graphs that there is no data from sept 5th to sept 25th 2015."
   ]
  },
  {
   "cell_type": "code",
   "execution_count": null,
   "metadata": {
    "colab": {
     "base_uri": "https://localhost:8080/",
     "height": 35
    },
    "id": "J6ILPFDFIklg",
    "outputId": "dcbc625a-78af-4c45-c500-a2b8135a914a"
   },
   "outputs": [],
   "source": [
    "filter_na_cols(test_df)\n"
   ]
  },
  {
   "cell_type": "markdown",
   "metadata": {
    "id": "E4Jo0GVfod-7"
   },
   "source": [
    "There are no missing values in test dataset."
   ]
  },
  {
   "cell_type": "markdown",
   "metadata": {
    "id": "AKrOAmyG0OMX"
   },
   "source": [
    "**HANDLING THE MISSING VALUES**"
   ]
  },
  {
   "cell_type": "code",
   "execution_count": null,
   "metadata": {
    "id": "knYZyTaiJAwl"
   },
   "outputs": [],
   "source": [
    "def impute_number_col(df):\n",
    "    null_col = ['nmme0-tmp2m-34w__ccsm30',\n",
    "    'nmme-tmp2m-56w__ccsm3',\n",
    "    'nmme-prate-34w__ccsm3',\n",
    "    'nmme0-prate-56w__ccsm30',\n",
    "    'nmme0-prate-34w__ccsm30',\n",
    "    'nmme-prate-56w__ccsm3',\n",
    "    'nmme-tmp2m-34w__ccsm3',\n",
    "    'ccsm30']\n",
    "    number_imputer = SimpleImputer(missing_values=np.nan, strategy='median')\n",
    "    fixed_column_df = number_imputer.fit_transform(df[null_col])\n",
    "    df[null_col] = fixed_column_df\n",
    "    return df"
   ]
  },
  {
   "cell_type": "markdown",
   "metadata": {
    "id": "RY4bw_8Asxv6"
   },
   "source": [
    "Here ,we know that the missing values are a case of NMAR(Not Missing At Random) , and also there is only a small amount of data missing , we will set the null values with the mean of the dataset column."
   ]
  },
  {
   "cell_type": "markdown",
   "metadata": {
    "id": "VYDAVgscCGFZ"
   },
   "source": [
    "**CONVERTING STARTDATE INTO DATETIME FORMAT**"
   ]
  },
  {
   "cell_type": "code",
   "execution_count": null,
   "metadata": {
    "id": "MOUnFe-gvCIk"
   },
   "outputs": [],
   "source": [
    "train_df['startdate'] = pd.to_datetime(train_df['startdate'])\n"
   ]
  },
  {
   "cell_type": "code",
   "execution_count": null,
   "metadata": {
    "colab": {
     "base_uri": "https://localhost:8080/"
    },
    "id": "vcQ0oZ0kkBKP",
    "outputId": "907a2f30-01d1-4959-ba06-a3d2a069666b"
   },
   "outputs": [],
   "source": [
    "train_df['year'] = pd.DatetimeIndex(train_df['startdate']).year\n",
    "print (train_df['year'].unique())"
   ]
  },
  {
   "cell_type": "code",
   "execution_count": null,
   "metadata": {
    "colab": {
     "base_uri": "https://localhost:8080/"
    },
    "id": "qugmQ3pks2D4",
    "outputId": "60736972-bc99-4f71-9aef-52cb46cdf3f1"
   },
   "outputs": [],
   "source": [
    "train_df['startdate'] = pd.to_datetime(train_df['startdate']) \n",
    "train_df['month_year'] = train_df['startdate'].dt.to_period(\"M\").astype(str)\n",
    "print (train_df['month_year'])"
   ]
  },
  {
   "cell_type": "markdown",
   "metadata": {
    "id": "BZCn_Mj8CT5h"
   },
   "source": [
    "**COMBINING LATITUDE AND LONGITUDE TO GET LOCATION**"
   ]
  },
  {
   "cell_type": "code",
   "execution_count": null,
   "metadata": {
    "colab": {
     "base_uri": "https://localhost:8080/"
    },
    "id": "1w_nEgwq4yut",
    "outputId": "ca317acb-2c8d-4bd4-84c7-71a755725286"
   },
   "outputs": [],
   "source": [
    "train_df['location'] = train_df['lat'].map(str) + ' , ' + train_df['lon'].map(str)\n",
    "print (train_df['location'])"
   ]
  },
  {
   "cell_type": "markdown",
   "metadata": {
    "id": "C9FZKIiPCiLa"
   },
   "source": [
    "**UNIQUE LOCATIONS**"
   ]
  },
  {
   "cell_type": "code",
   "execution_count": null,
   "metadata": {
    "colab": {
     "base_uri": "https://localhost:8080/"
    },
    "id": "SmYRVu-Z6KeQ",
    "outputId": "18c25fad-9a49-4727-b30e-2bcb95628286"
   },
   "outputs": [],
   "source": [
    "train_df['location'].unique()\n",
    "\n"
   ]
  },
  {
   "cell_type": "code",
   "execution_count": null,
   "metadata": {
    "colab": {
     "base_uri": "https://localhost:8080/"
    },
    "id": "_NoOaz8n2Vi4",
    "outputId": "2ebe0a78-9d25-4a93-b887-ca32f72f6d3b"
   },
   "outputs": [],
   "source": [
    "print(train_df.location.value_counts())"
   ]
  },
  {
   "cell_type": "markdown",
   "metadata": {
    "id": "GEjHA985umcn"
   },
   "source": [
    "There are 514 unique locations in the dataset."
   ]
  },
  {
   "cell_type": "markdown",
   "metadata": {
    "id": "CcWdak3H0nZM"
   },
   "source": [
    "**LOCATION SCATTER PLOT**"
   ]
  },
  {
   "cell_type": "code",
   "execution_count": null,
   "metadata": {
    "colab": {
     "base_uri": "https://localhost:8080/",
     "height": 265
    },
    "id": "IAl-TCkzNi7d",
    "outputId": "ef9b4bef-9053-45e2-9137-9e273b49d8e5"
   },
   "outputs": [],
   "source": [
    "plt.scatter(train_df['lon'], train_df['lat'])\n",
    "plt.show()"
   ]
  },
  {
   "cell_type": "markdown",
   "metadata": {
    "id": "TH401NjP0_Pf"
   },
   "source": [
    "As we know the locations are from US , the above cordinates are similar to the Gulf Coast and South east of US."
   ]
  },
  {
   "cell_type": "markdown",
   "metadata": {
    "id": "9s0P5Z8FCqFI"
   },
   "source": [
    "**LOCATIONS IN TEST DATA**"
   ]
  },
  {
   "cell_type": "code",
   "execution_count": null,
   "metadata": {
    "colab": {
     "base_uri": "https://localhost:8080/"
    },
    "id": "IwlvPrhxV4uT",
    "outputId": "8a970554-a55e-4327-a0d4-9a28603aef8d"
   },
   "outputs": [],
   "source": [
    "test_df['location'] = test_df['lat'].map(str) + ' , ' + test_df['lon'].map(str)\n",
    "print (test_df['location'])"
   ]
  },
  {
   "cell_type": "code",
   "execution_count": null,
   "metadata": {
    "colab": {
     "base_uri": "https://localhost:8080/"
    },
    "id": "f9cYykOgWE5y",
    "outputId": "883fb74c-3e57-4c6c-abc7-8342a1d67563"
   },
   "outputs": [],
   "source": [
    "test_df['location'].unique()\n"
   ]
  },
  {
   "cell_type": "code",
   "execution_count": null,
   "metadata": {
    "colab": {
     "base_uri": "https://localhost:8080/"
    },
    "id": "PGh3RSw8WbDz",
    "outputId": "d7ac756d-ca5a-4137-c1bb-a4700a3a4e75"
   },
   "outputs": [],
   "source": [
    "print(test_df.location.value_counts())"
   ]
  },
  {
   "cell_type": "markdown",
   "metadata": {
    "id": "_jR72LEtvCnp"
   },
   "source": [
    "There are 514 unique locations in test data ."
   ]
  },
  {
   "cell_type": "code",
   "execution_count": null,
   "metadata": {
    "colab": {
     "base_uri": "https://localhost:8080/"
    },
    "id": "J4D8jeOKpW8M",
    "outputId": "da13d0a3-b372-4170-ffe2-e8c2336b7204"
   },
   "outputs": [],
   "source": [
    "scale=14\n",
    "train_df.loc[:,'lat']=round(train_df.lat,scale)\n",
    "train_df.loc[:,'lon']=round(train_df.lon,scale)\n",
    "\n",
    "test_df.loc[:,'lat']=round(test_df.lat,scale)\n",
    "test_df.loc[:,'lon']=round(test_df.lon,scale)\n",
    "\n",
    "all_df = pd.concat([train_df, test_df], axis=0)\n",
    "\n",
    "all_df['loc_group'] = all_df.groupby(['lat','lon']).ngroup()\n",
    "print(f'{all_df.loc_group.nunique()} unique locations')\n",
    "\n"
   ]
  },
  {
   "cell_type": "code",
   "execution_count": null,
   "metadata": {
    "colab": {
     "base_uri": "https://localhost:8080/"
    },
    "id": "DZTxpjnxqi2V",
    "outputId": "13d37840-ca1d-43cc-d005-556aa6107072"
   },
   "outputs": [],
   "source": [
    "train_df = all_df.iloc[:len(train_df)]\n",
    "test_df = all_df.iloc[len(train_df):]\n",
    "\n",
    "locations_train=list(train_df.loc_group.unique())\n",
    "locations_test=list(test_df.loc_group.unique())\n",
    "result_1 = list(set(locations_train).difference(locations_test))\n",
    "print(result_1)\n",
    "\n",
    "result_2=list(set(locations_test).difference(locations_train))\n",
    "print(result_2)"
   ]
  },
  {
   "cell_type": "markdown",
   "metadata": {
    "id": "iKnCWqDXcDDs"
   },
   "source": [
    "All the locations in test data are in train data."
   ]
  },
  {
   "cell_type": "markdown",
   "metadata": {
    "id": "ypfsjJ8tEKdy"
   },
   "source": [
    "**TEMPERATURE TIME SERIES**"
   ]
  },
  {
   "cell_type": "code",
   "execution_count": null,
   "metadata": {
    "colab": {
     "base_uri": "https://localhost:8080/",
     "height": 281
    },
    "id": "08urxpQHkD_P",
    "outputId": "c01bcbc9-5aee-4d0a-bd4e-ce1f4ad67993"
   },
   "outputs": [],
   "source": [
    "train_df.plot(x=\"startdate\", y=\"contest-tmp2m-14d__tmp2m\")\n",
    "plt.show()"
   ]
  },
  {
   "cell_type": "markdown",
   "metadata": {
    "id": "mAUHJXqEz136"
   },
   "source": [
    "This shows a typical temperature pattern ."
   ]
  },
  {
   "cell_type": "code",
   "execution_count": null,
   "metadata": {
    "colab": {
     "base_uri": "https://localhost:8080/",
     "height": 301
    },
    "id": "ptndB3ePhsat",
    "outputId": "07330130-32e6-47c2-b183-2988e3228326"
   },
   "outputs": [],
   "source": [
    "fig, ax = plt.subplots(figsize = (4,4))\n",
    "\n",
    "sns.boxplot(data=train_df, x='year', y='contest-tmp2m-14d__tmp2m')"
   ]
  },
  {
   "cell_type": "markdown",
   "metadata": {
    "id": "q_5rN_jX72t-"
   },
   "source": [
    "There is a increase in mean temperature values each year."
   ]
  },
  {
   "cell_type": "code",
   "execution_count": null,
   "metadata": {
    "colab": {
     "base_uri": "https://localhost:8080/",
     "height": 354
    },
    "id": "1y7wf7ZU7P3o",
    "outputId": "16becec4-8756-4766-96f6-ff549e21f844"
   },
   "outputs": [],
   "source": [
    "df= pd.DataFrame()   \n",
    "df['Temperature'] = train_df.groupby('year')['contest-tmp2m-14d__tmp2m'].mean()\n",
    "df.plot(y='Temperature', kind='line',figsize=(10, 5))"
   ]
  },
  {
   "cell_type": "markdown",
   "metadata": {
    "id": "22gAuN9K8FYj"
   },
   "source": [
    "Each year tempertaure rises 2-4 degrees!!!"
   ]
  },
  {
   "cell_type": "markdown",
   "metadata": {
    "id": "uiG07YzsC0ks"
   },
   "source": [
    "**CLIMATE REGION**"
   ]
  },
  {
   "cell_type": "markdown",
   "metadata": {
    "id": "KuhWN9uEhSix"
   },
   "source": [
    "Abbreviations of Climate regions \n",
    "\n",
    "BSh: Hot semi-arid climate\n",
    "\n",
    "BSk: Cold semi-arid climate\n",
    "\n",
    "BWh: Hot desert climate\n",
    "\n",
    "BWk: Cold desert climate\n",
    "\n",
    "Cfa: Humid subtropical climate\n",
    "\n",
    "Cfb: Temperate oceanic climate or subtropical highland climate\n",
    "\n",
    "Csa: Hot-summer Mediterranean climate\n",
    "\n",
    "Csb: Warm-summer Mediterranean climate\n",
    "\n",
    "Dfa: Hot-summer humid continental climate\n",
    "\n",
    "Dfb: Warm-summer humid continental climate\n",
    "\n",
    "Dfc: Subarctic climate\n",
    "\n",
    "Dsb: Mediterranean-influenced warm-summer humid continental climate\n",
    "\n",
    "Dsc: Mediterranean-influenced subarctic climate\n",
    "\n",
    "Dwa: Monsoon-influenced hot-summer humid continental climate\n",
    "\n",
    "Dwb: Monsoon-influenced warm-summer humid continental climate"
   ]
  },
  {
   "cell_type": "markdown",
   "metadata": {
    "id": "0f5pB5qcwmx5"
   },
   "source": [
    "**PLOTTING CLIMATE REGIONS**"
   ]
  },
  {
   "cell_type": "code",
   "execution_count": null,
   "metadata": {
    "colab": {
     "base_uri": "https://localhost:8080/",
     "height": 531
    },
    "id": "i7VZLraqujoR",
    "outputId": "fd3cbcc4-8b45-4b21-a14f-eafbc08f1589"
   },
   "outputs": [],
   "source": [
    "plt.figure(figsize=(10,8))\n",
    "plt.xlabel(\"Longitude\")\n",
    "plt.ylabel(\"Latitude\")\n",
    "sns.scatterplot(x='lon', y='lat',hue =\"climateregions__climateregion\",data=train_df).set(title =\"Train_Location\")\n",
    "\n"
   ]
  },
  {
   "cell_type": "markdown",
   "metadata": {
    "id": "ZrQMybx-hiHV"
   },
   "source": [
    "**Climate Region Counts** "
   ]
  },
  {
   "cell_type": "code",
   "execution_count": null,
   "metadata": {
    "colab": {
     "base_uri": "https://localhost:8080/"
    },
    "id": "EC_BQTD_e6Bg",
    "outputId": "95814f5d-4024-4eb2-870d-69d87c50af8c"
   },
   "outputs": [],
   "source": [
    "climate_regions = train_df.groupby('climateregions__climateregion').size().reset_index(name='counts')\n",
    "climate_regions['percentage'] = climate_regions['counts'] / climate_regions['counts'].sum() * 100\n",
    "print(climate_regions)"
   ]
  },
  {
   "cell_type": "code",
   "execution_count": null,
   "metadata": {
    "colab": {
     "base_uri": "https://localhost:8080/",
     "height": 283
    },
    "id": "-wixDjCem5my",
    "outputId": "9aeac78f-2669-41db-8888-cdbd26c62eae"
   },
   "outputs": [],
   "source": [
    "train_df['climateregions__climateregion'].value_counts().sort_values().plot(kind='bar', figsize=(10,4), rot=0)\n"
   ]
  },
  {
   "cell_type": "code",
   "execution_count": null,
   "metadata": {
    "colab": {
     "base_uri": "https://localhost:8080/",
     "height": 283
    },
    "id": "U7YdrRwXnXpm",
    "outputId": "5d73c588-476e-4fae-ab34-735526a54ac1"
   },
   "outputs": [],
   "source": [
    "test_df['climateregions__climateregion'].value_counts().sort_values().plot(kind='bar', figsize=(10,4), rot=0)"
   ]
  },
  {
   "cell_type": "markdown",
   "metadata": {
    "id": "vw1_0mb2h03G"
   },
   "source": [
    "The distributions of climate regions for train data and test data are pretty much similar."
   ]
  },
  {
   "cell_type": "markdown",
   "metadata": {
    "id": "z8ufeCbf9BeA"
   },
   "source": [
    "**RELATIONSHIP BETWEEN THE VARIABLES BASED ON CLIMATIC REGIONS**"
   ]
  },
  {
   "cell_type": "markdown",
   "metadata": {
    "id": "dPmj0XHQEeIo"
   },
   "source": [
    "**TEMPERATURE VS HUMIDITY**"
   ]
  },
  {
   "cell_type": "code",
   "execution_count": null,
   "metadata": {
    "colab": {
     "base_uri": "https://localhost:8080/",
     "height": 531
    },
    "id": "jBTiAJPaAwS6",
    "outputId": "adc4392f-d635-48da-c423-20816eecd5b5"
   },
   "outputs": [],
   "source": [
    "sample_df=train_df.sample(int(0.1*len(train_df)))\n",
    "plt.figure(figsize=(10,8))\n",
    "plt.xlabel(\"Temperature\")\n",
    "plt.ylabel(\"Humidity\")\n",
    "sns.scatterplot(x='contest-tmp2m-14d__tmp2m', y='contest-rhum-sig995-14d__rhum',hue =\"climateregions__climateregion\",data=sample_df).set(title =\"Temperature Vs Humidity\")"
   ]
  },
  {
   "cell_type": "markdown",
   "metadata": {
    "id": "iMjeaVvOEvON"
   },
   "source": [
    "**PRECIPATION VS HUMIDITY**"
   ]
  },
  {
   "cell_type": "code",
   "execution_count": null,
   "metadata": {
    "colab": {
     "base_uri": "https://localhost:8080/",
     "height": 531
    },
    "id": "wN_1PUMOTeTY",
    "outputId": "e192288c-acaf-439a-bcb4-cd72ce0ed906"
   },
   "outputs": [],
   "source": [
    "sample_df=train_df.sample(int(0.1*len(train_df)))\n",
    "plt.figure(figsize=(10,8))\n",
    "plt.xlabel(\"Humidity\")\n",
    "plt.ylabel(\"Percipitation\")\n",
    "sns.scatterplot( x='contest-rhum-sig995-14d__rhum',y='contest-precip-14d__precip',hue =\"climateregions__climateregion\",data = sample_df).set(title =\"PERCIPITATIONS VS HUMIDITY\")"
   ]
  },
  {
   "cell_type": "markdown",
   "metadata": {
    "id": "xSxV7h08_s6N"
   },
   "source": [
    "Findings : 1.The lower the humidity , the higher the temperature .\n",
    "           2.Higher the humidity , higher the percipitaions . \n",
    "           In other words , lower the temperature , higher the humidity and higher will be the percipitations and vice versa."
   ]
  },
  {
   "cell_type": "code",
   "execution_count": null,
   "metadata": {
    "colab": {
     "base_uri": "https://localhost:8080/",
     "height": 722
    },
    "id": "4eQyzEi1-nKz",
    "outputId": "beb7786d-5028-4767-a7d7-447d34bd448c"
   },
   "outputs": [],
   "source": [
    "\n",
    "sample_df=train_df.sample(int(0.01*len(train_df)))\n",
    "# select columns for pair plot\n",
    "cols = ['contest-tmp2m-14d__tmp2m', 'contest-rhum-sig995-14d__rhum', 'contest-precip-14d__precip','contest-wind-h10-14d__wind-hgt-10']\n",
    "\n",
    "# create pair plot with selected columns\n",
    "sns.pairplot(sample_df[cols])\n",
    "\n",
    "# show plot\n",
    "plt.show()"
   ]
  },
  {
   "cell_type": "markdown",
   "metadata": {
    "id": "YIljkdYllkPr"
   },
   "source": [
    "The above pairplot shows the effect of each environmental factors over the other.Main factors considered in the plot are temperature , humidity, wind and percipitations ."
   ]
  },
  {
   "cell_type": "markdown",
   "metadata": {
    "id": "V3opJi9ol9Iu"
   },
   "source": [
    "**CORRELATION BETWEEN THE VARIABLES**"
   ]
  },
  {
   "cell_type": "code",
   "execution_count": null,
   "metadata": {
    "id": "MAngge1Kqa4G"
   },
   "outputs": [],
   "source": [
    "data = pd.DataFrame()    # creating a dataset of environmental factors...\n",
    "data['Temperatue'] = train_df['contest-tmp2m-14d__tmp2m']\n",
    "data['evaporation'] = train_df['contest-pevpr-sfc-gauss-14d__pevpr']\n",
    "data['humidity'] = train_df['contest-rhum-sig995-14d__rhum']\n",
    "data['sealevel_pressure'] = train_df['contest-slp-14d__slp']\n",
    "data['pressure'] = train_df['contest-pres-sfc-gauss-14d__pres']\n",
    "data['wind'] = train_df['contest-wind-h10-14d__wind-hgt-10']\n",
    "data['elevation'] = train_df['elevation__elevation']\n",
    "data['percipitation'] = train_df['contest-precip-14d__precip']\n",
    "\n",
    "\n"
   ]
  },
  {
   "cell_type": "code",
   "execution_count": null,
   "metadata": {
    "colab": {
     "base_uri": "https://localhost:8080/",
     "height": 474
    },
    "id": "39VhraN8J3F8",
    "outputId": "dfe0a91c-11f6-4c74-e10a-6c001328591d"
   },
   "outputs": [],
   "source": [
    "def Plotting():          # Plotting the Heatmap...\n",
    "    plt.figure(figsize=(10, 6))\n",
    "    sns.heatmap(data.corr(), cmap='inferno', annot=True)\n",
    "    plt.title(\"Correlation of Target Variable with Main Features \", size=18, c=\"red\")\n",
    "    plt.show()\n",
    "\n",
    "Plotting()"
   ]
  },
  {
   "cell_type": "markdown",
   "metadata": {
    "id": "v5AQ6oytRcsZ"
   },
   "source": [
    "The above plot shows the correlation  between the various factors and also its impact on temperture ( targeted variable) in heat map .\n"
   ]
  },
  {
   "cell_type": "code",
   "execution_count": null,
   "metadata": {
    "id": "sY1HxKkfA8Ib"
   },
   "outputs": [],
   "source": [
    "data1 = pd.DataFrame()    # creating a dataset of temperature and percipiations  at 3-4 weeks and 5-6 weeks...\n",
    "data1['MostrecentMeanTemperature34'] = train_df['nmme0-tmp2m-34w__nmme0mean']\n",
    "data1['MeanPercipitation34'] = train_df['nmme-prate-34w__nmmemean']\n",
    "data1['MeanPercipitation56'] = train_df['nmme-prate-56w__nmmemean']\n",
    "data1['MostrecentPercipiations56'] = train_df['nmme0-prate-56w__nmme0mean']\n",
    "data1['MostrecentPercipiations34'] = train_df['nmme0-prate-34w__nmme0mean']\n",
    "data1['MeanTemperature34'] = train_df['nmme-tmp2m-34w__nmmemean']\n",
    "data1['MeanTemperature56'] = train_df['nmme-tmp2m-56w__nmmemean']\n",
    "data1['Mostrecentforecast'] = train_df['nmme0mean']\n",
    "data1['Targetvariable'] = train_df['contest-tmp2m-14d__tmp2m']\n"
   ]
  },
  {
   "cell_type": "code",
   "execution_count": null,
   "metadata": {
    "colab": {
     "base_uri": "https://localhost:8080/",
     "height": 488
    },
    "id": "F9q16UB8Bvzt",
    "outputId": "35940953-6556-40b2-e884-fe4eea48abc5"
   },
   "outputs": [],
   "source": [
    "def Plotting1():          # Plotting the Heatmap...\n",
    "    plt.figure(figsize=(12,5))\n",
    "    sns.heatmap(data1.corr(), cmap=\"YlGnBu\", annot=True)\n",
    "    plt.title(\"Correlation of Temperature with computational factors\", size=18, c=\"blue\")\n",
    "    plt.show()\n",
    "\n",
    "Plotting1()"
   ]
  },
  {
   "cell_type": "markdown",
   "metadata": {
    "id": "yKOZhFToRtqb"
   },
   "source": [
    "In the above plot , we can see that the NMME forecasts for target variable for 3-4 weeks and 5-6 weeks are same and the same apply for percipitation forecasts too.Since both the forecasts 3-4 weeks and 5-6 weeks  columns have high correlation between them , we can drop one of them and thus reduce the number of columns."
   ]
  },
  {
   "cell_type": "code",
   "execution_count": null,
   "metadata": {
    "id": "lgWY2-pC5ajK"
   },
   "outputs": [],
   "source": [
    "updated_df = pd.DataFrame(data)\n",
    "#updated_df = train_df.drop(['index', ''], axis=1)\n",
    "updated_df = train_df.drop(columns='index')"
   ]
  },
  {
   "cell_type": "code",
   "execution_count": null,
   "metadata": {},
   "outputs": [],
   "source": []
  }
 ],
 "metadata": {
  "colab": {
   "provenance": []
  },
  "kernelspec": {
   "display_name": "Python 3 (ipykernel)",
   "language": "python",
   "name": "python3"
  },
  "language_info": {
   "codemirror_mode": {
    "name": "ipython",
    "version": 3
   },
   "file_extension": ".py",
   "mimetype": "text/x-python",
   "name": "python",
   "nbconvert_exporter": "python",
   "pygments_lexer": "ipython3",
   "version": "3.9.13"
  }
 },
 "nbformat": 4,
 "nbformat_minor": 4
}
