{
 "cells": [
  {
   "cell_type": "code",
   "execution_count": null,
   "id": "168a889b-36a8-4cec-beba-f7a63d4daa06",
   "metadata": {},
   "outputs": [],
   "source": [
    "#pip install missingno"
   ]
  },
  {
   "cell_type": "code",
   "execution_count": null,
   "id": "ee0c7689",
   "metadata": {},
   "outputs": [],
   "source": [
    "import pandas as pd\n",
    "import seaborn as sns\n",
    "import missingno as msno\n",
    "train_df = pd.read_csv('train_data.csv')\n",
    "test_df = pd.read_csv('test_data.csv')"
   ]
  },
  {
   "cell_type": "code",
   "execution_count": null,
   "id": "32002ae3",
   "metadata": {},
   "outputs": [],
   "source": [
    "train_df.head()"
   ]
  },
  {
   "cell_type": "code",
   "execution_count": null,
   "id": "5f9a10bb",
   "metadata": {},
   "outputs": [],
   "source": [
    "test_df.head()"
   ]
  },
  {
   "cell_type": "code",
   "execution_count": null,
   "id": "d65a6be0",
   "metadata": {},
   "outputs": [],
   "source": [
    "train_df.shape"
   ]
  },
  {
   "cell_type": "code",
   "execution_count": null,
   "id": "c32b83c5",
   "metadata": {},
   "outputs": [],
   "source": [
    "test_df.shape"
   ]
  },
  {
   "cell_type": "code",
   "execution_count": null,
   "id": "605b0b1d",
   "metadata": {},
   "outputs": [],
   "source": [
    "train_df.describe()"
   ]
  },
  {
   "cell_type": "code",
   "execution_count": null,
   "id": "9ff5f090",
   "metadata": {},
   "outputs": [],
   "source": [
    "train_df.startdate = pd.to_datetime(train_df.startdate)\n",
    "test_df.startdate = pd.to_datetime(test_df.startdate)"
   ]
  },
  {
   "cell_type": "code",
   "execution_count": null,
   "id": "2fd6e489",
   "metadata": {},
   "outputs": [],
   "source": [
    "print(train_df['startdate'].min())\n",
    "print(train_df['startdate'].max())"
   ]
  },
  {
   "cell_type": "code",
   "execution_count": null,
   "id": "fbc535bc",
   "metadata": {},
   "outputs": [],
   "source": [
    "print(test_df['startdate'].min())\n",
    "print(test_df['startdate'].max())"
   ]
  },
  {
   "cell_type": "code",
   "execution_count": null,
   "id": "146df4da",
   "metadata": {},
   "outputs": [],
   "source": [
    "import matplotlib.pyplot as plt\n",
    "fig, ax = plt.subplots(1,1, figsize=(16,2))\n",
    "ax.set_title('Time Series Data')\n",
    "sns.scatterplot(data = train_df, x = 'startdate',y = 0, marker='o', linewidth=0, label = 'train')\n",
    "sns.scatterplot(data = test_df, x = 'startdate',y = 0, marker='o', linewidth=0, label = 'test')\n",
    "\n",
    "plt.show()"
   ]
  },
  {
   "cell_type": "code",
   "execution_count": null,
   "id": "d320ad59",
   "metadata": {},
   "outputs": [],
   "source": [
    "#print the target column name\n",
    "for c in train_df.columns:\n",
    "    if c not in test_df.columns:\n",
    "        target = c\n",
    "        print(target)"
   ]
  },
  {
   "cell_type": "markdown",
   "id": "a32cf741",
   "metadata": {},
   "source": [
    "### cheking missing values for training set "
   ]
  },
  {
   "cell_type": "code",
   "execution_count": null,
   "id": "9cd3db06",
   "metadata": {},
   "outputs": [],
   "source": [
    "#cheking missing values for training set\n",
    "msno.matrix(train_df)\n"
   ]
  },
  {
   "cell_type": "code",
   "execution_count": null,
   "id": "1446461e",
   "metadata": {},
   "outputs": [],
   "source": [
    "null_pct_train = train_df.isna().any()[lambda x: x]\n",
    "null_pct_train"
   ]
  },
  {
   "cell_type": "code",
   "execution_count": null,
   "id": "feb3d2e7",
   "metadata": {},
   "outputs": [],
   "source": [
    "null_columns = pd.DataFrame(train_df[train_df.columns[train_df.isnull().any()]].isnull().sum() * 100 / train_df.shape[0], columns=['Percentage of NaN values'])\n",
    "null_columns['Total NaN Values'] = train_df[train_df.columns[train_df.isnull().any()]].isnull().sum()\n",
    "null_columns"
   ]
  },
  {
   "cell_type": "code",
   "execution_count": null,
   "id": "6763cead",
   "metadata": {},
   "outputs": [],
   "source": [
    "nul = [\"nmme0-tmp2m-34w__ccsm30\",\"nmme-tmp2m-56w__ccsm3\",\"nmme-prate-34w__ccsm3\",\"nmme0-prate-56w__ccsm30\",\"nmme0-prate-34w__ccsm30\",\"nmme-prate-56w__ccsm3\",\"nmme-tmp2m-34w__ccsm3\",\"ccsm30\"]\n",
    "for f in nul:\n",
    "    train_df[f] =  train_df[f].interpolate()\n",
    "    "
   ]
  },
  {
   "cell_type": "markdown",
   "id": "38764d55",
   "metadata": {},
   "source": [
    "### cheking missing values for test set "
   ]
  },
  {
   "cell_type": "code",
   "execution_count": null,
   "id": "935482eb",
   "metadata": {},
   "outputs": [],
   "source": [
    "#cheking missing values for test set\n",
    "\n",
    "msno.matrix(test_df)\n"
   ]
  },
  {
   "cell_type": "code",
   "execution_count": null,
   "id": "19bd657d",
   "metadata": {},
   "outputs": [],
   "source": [
    "null_pct_test = test_df.isna().any()[lambda x: x]\n",
    "null_pct_test"
   ]
  },
  {
   "cell_type": "markdown",
   "id": "33178a8b",
   "metadata": {},
   "source": [
    "### Print numerical columns for training & test set "
   ]
  },
  {
   "cell_type": "code",
   "execution_count": null,
   "id": "4c01a3c9",
   "metadata": {},
   "outputs": [],
   "source": [
    "# numerical columns \n",
    "train_df.select_dtypes(exclude=['object']).columns.tolist()"
   ]
  },
  {
   "cell_type": "code",
   "execution_count": null,
   "id": "f7dde9ca",
   "metadata": {},
   "outputs": [],
   "source": [
    "test_df.select_dtypes(exclude=['object']).columns.tolist()"
   ]
  },
  {
   "cell_type": "markdown",
   "id": "86ebb930",
   "metadata": {},
   "source": [
    "### Print categorical columns for training & test set "
   ]
  },
  {
   "cell_type": "code",
   "execution_count": null,
   "id": "9e6cf701",
   "metadata": {},
   "outputs": [],
   "source": [
    "#list of categorical columns\n",
    "train_df.select_dtypes(include=['object']).columns.tolist()\n"
   ]
  },
  {
   "cell_type": "code",
   "execution_count": null,
   "id": "7e4a9a86",
   "metadata": {},
   "outputs": [],
   "source": [
    "test_df.select_dtypes(include=['object']).columns.tolist()\n"
   ]
  },
  {
   "cell_type": "code",
   "execution_count": null,
   "id": "9929a735",
   "metadata": {},
   "outputs": [],
   "source": [
    "train_df['climateregions__climateregion'].value_counts()\n",
    "train_df['climateregions__climateregion'].value_counts().sort_values().plot(kind='bar', figsize=(10,4), rot=0)"
   ]
  },
  {
   "cell_type": "code",
   "execution_count": null,
   "id": "6db7a1b7",
   "metadata": {},
   "outputs": [],
   "source": [
    "test_df['climateregions__climateregion'].value_counts().sort_values().plot(kind='bar', figsize=(10,4), rot=0)"
   ]
  },
  {
   "cell_type": "code",
   "execution_count": null,
   "id": "15d90f60",
   "metadata": {},
   "outputs": [],
   "source": [
    "import matplotlib.pyplot as plt\n",
    "def target_distribution(data):\n",
    "    plt.figure(figsize=(10,5))\n",
    "    plt.axvline(train_df['contest-tmp2m-14d__tmp2m'].median(), color='r', linestyle='dashed', linewidth=2, label='median value')\n",
    "    plt.axvline(train_df['contest-tmp2m-14d__tmp2m'].mean(), color='purple', linestyle='dashed', linewidth=2, label='average value')\n",
    "    plt.axvline(train_df['contest-tmp2m-14d__tmp2m'].quantile(0.25), color='green', linestyle='dotted', linewidth=3, label='25% and 75% values')\n",
    "    plt.axvline(train_df['contest-tmp2m-14d__tmp2m'].quantile(0.75), color='green', linestyle='dotted', linewidth=3)\n",
    "    plt.legend()\n",
    "    sns.histplot(train_df['contest-tmp2m-14d__tmp2m'], alpha=0.5)\n",
    "    plt.show()"
   ]
  },
  {
   "cell_type": "code",
   "execution_count": null,
   "id": "fa615446",
   "metadata": {},
   "outputs": [],
   "source": [
    "target_distribution(train_df)\n"
   ]
  },
  {
   "cell_type": "code",
   "execution_count": null,
   "id": "2cadb492",
   "metadata": {},
   "outputs": [],
   "source": [
    "train_df['Month'] = [i.month for i in train_df['startdate']]\n",
    "train_df['Year'] = [i.year for i in train_df['startdate']]\n",
    "train_df['day'] = [i.date for i in train_df['startdate']]"
   ]
  },
  {
   "cell_type": "code",
   "execution_count": null,
   "id": "3f591e9f",
   "metadata": {
    "scrolled": true
   },
   "outputs": [],
   "source": [
    "fig, ax = plt.subplots(figsize = (4,4))\n",
    "\n",
    "sns.boxplot(data=train_df, x='Year', y='contest-tmp2m-14d__tmp2m');"
   ]
  },
  {
   "cell_type": "code",
   "execution_count": null,
   "id": "02677789-5aa0-43c6-892d-f4a18616f82b",
   "metadata": {},
   "outputs": [],
   "source": []
  }
 ],
 "metadata": {
  "kernelspec": {
   "display_name": "Python 3 (ipykernel)",
   "language": "python",
   "name": "python3"
  },
  "language_info": {
   "codemirror_mode": {
    "name": "ipython",
    "version": 3
   },
   "file_extension": ".py",
   "mimetype": "text/x-python",
   "name": "python",
   "nbconvert_exporter": "python",
   "pygments_lexer": "ipython3",
   "version": "3.9.13"
  }
 },
 "nbformat": 4,
 "nbformat_minor": 5
}
