{
 "cells": [
  {
   "cell_type": "markdown",
   "metadata": {
    "id": "nXigFJJmFT6H"
   },
   "source": [
    "## Install the library"
   ]
  },
  {
   "cell_type": "code",
   "execution_count": null,
   "metadata": {
    "id": "cHg2x69pRTUI"
   },
   "outputs": [],
   "source": [
    "!pip install geemap\n",
    "!pip install ee"
   ]
  },
  {
   "cell_type": "markdown",
   "metadata": {
    "id": "akSzkNnjDjjj"
   },
   "source": [
    "## Import the Libraries"
   ]
  },
  {
   "cell_type": "code",
   "execution_count": null,
   "metadata": {
    "id": "mROxqOGXRodj"
   },
   "outputs": [],
   "source": [
    "import os\n",
    "import ee\n",
    "import geemap\n",
    "import ipywidgets as widgets\n",
    "import pandas as pd\n",
    "import numpy as np\n",
    "from PIL import Image\n"
   ]
  },
  {
   "cell_type": "markdown",
   "metadata": {
    "id": "vHcQKgMgDvLH"
   },
   "source": [
    "## Authenticate and Initialise with your account associated with Google Earth Engine"
   ]
  },
  {
   "cell_type": "code",
   "execution_count": null,
   "metadata": {
    "id": "OZ6iWsupRr5o"
   },
   "outputs": [],
   "source": [
    "ee.Authenticate()\n",
    "ee.Initialize()"
   ]
  },
  {
   "cell_type": "markdown",
   "metadata": {
    "id": "TIOjvIVuD5Sy"
   },
   "source": [
    "## Data Range"
   ]
  },
  {
   "cell_type": "code",
   "execution_count": null,
   "metadata": {
    "id": "Fg3ayqP9Rva2"
   },
   "outputs": [],
   "source": [
    "start_date = '2022-01-01'\n",
    "end_date = '2022-06-30'"
   ]
  },
  {
   "cell_type": "markdown",
   "metadata": {
    "id": "RARrenw0D8zm"
   },
   "source": [
    "# Finding water quality parameters"
   ]
  },
  {
   "cell_type": "markdown",
   "metadata": {
    "id": "oUu5vU3_EBLs"
   },
   "source": [
    "## Sentinel-2A"
   ]
  },
  {
   "cell_type": "markdown",
   "metadata": {},
   "source": [
    "### Rastar to Vector Conversion"
   ]
  },
  {
   "cell_type": "code",
   "execution_count": null,
   "metadata": {},
   "outputs": [],
   "source": [
    "Map = geemap.Map()\n",
    "\n",
    "geometry = ee.Geometry.Point([77.2052, 23.1443])\n",
    "image = ee.ImageCollection(\"COPERNICUS/S2_SR\") \\\n",
    "        .filterBounds(geometry) \\\n",
    "        .filter(ee.Filter.lte('CLOUDY_PIXEL_PERCENTAGE',20)) \\\n",
    "        .first()\n",
    "# Create an NDWI image, define visualization parameters and display.\n",
    "ndwi = image.normalizedDifference(['B3', 'B8'])\n",
    "\n",
    "# Mask the non-watery parts of the image, where NDWI < 0.4.\n",
    "ndwiMasked = ndwi.updateMask(ndwi.gte(0.4))\n",
    "ndwiMasked1= ndwiMasked.toInt()\n",
    "vectors = ndwiMasked1.reduceToVectors(scale = 30.0, geometryType = 'polygon', eightConnected = False, maxPixels = 10000000, bestEffort=True)\n"
   ]
  },
  {
   "cell_type": "code",
   "execution_count": null,
   "metadata": {},
   "outputs": [],
   "source": [
    "Map.addLayer(ndwi, {}, 'NDWI')\n",
    "Map.addLayer(ndwiMasked1, {'palette': ['00FFFF', '0000FF']}, 'Water')\n",
    "Map.centerObject(geometry, zoom=12)"
   ]
  },
  {
   "cell_type": "code",
   "execution_count": null,
   "metadata": {},
   "outputs": [],
   "source": [
    "Map"
   ]
  },
  {
   "cell_type": "code",
   "execution_count": null,
   "metadata": {
    "id": "rM2ybOBbRvYA"
   },
   "outputs": [],
   "source": [
    "# Upper Lake, Bhopal\n",
    "\n",
    "geometry = ee.Geometry.Point([77.2052, 23.1443])\n",
    "\n",
    "\n",
    "\n",
    "Map.addLayer(geometry)\n",
    "sentinel = ee.ImageCollection(\"COPERNICUS/S2_SR\").filterBounds(vectors) \\\n",
    "            .filterDate(start_date,end_date) \\\n",
    "            .filter(ee.Filter.lt('CLOUDY_PIXEL_PERCENTAGE',20)) \\\n",
    "            .median()\n",
    "\n",
    "\n",
    "mndwi = sentinel.normalizedDifference(['B3','B11']).rename('mndwi')\n",
    "mndwitr = mndwi.gt(0)\n",
    "ndsi = sentinel.normalizedDifference(['B11','B12']).rename('ndsi')\n",
    "ndti = sentinel.normalizedDifference(['B4','B3']).rename('ndti')\n",
    "\n",
    "ndci = sentinel.normalizedDifference(['B5','B4']).rename('ndci')\n",
    "\n",
    "\n",
    "ph  = ee.Image(8.339).subtract(ee.Image(0.827).multiply(sentinel.select('B1').divide(sentinel.select('B8')))).rename('ph')\n",
    "\n",
    "dissolvedoxygen  = ee.Image(-0.0167).multiply(sentinel.select('B8')).add(ee.Image(0.0067).multiply(sentinel.select('B9'))).add(ee.Image(0.0083).multiply(sentinel.select('B11'))).add(ee.Image(9.577)).rename('dissolvedoxygen')\n"
   ]
  },
  {
   "cell_type": "markdown",
   "metadata": {},
   "source": [
    "# Visualise"
   ]
  },
  {
   "cell_type": "markdown",
   "metadata": {},
   "source": [
    "## MNDWI - Modified Normalised Diffrence Water Index <br>\n",
    "<h4>The Modified Normalized Difference Water Index (MNDWI) uses green and SWIR bands for the enhancement of open water features. It also diminishes built-up area features that are often correlated with open water in other indices.</h4>"
   ]
  },
  {
   "cell_type": "code",
   "execution_count": null,
   "metadata": {},
   "outputs": [],
   "source": [
    "Map.addLayer(sentinel, {'bands': ['B4', 'B3', 'B2'], 'min': 0, 'max': 3000}, 'RGB')\n",
    "Map.addLayer(mndwi, {'min': -1, 'max': 1, 'palette': ['white', 'black', 'blue']}, 'MNDWI')\n",
    "Map"
   ]
  },
  {
   "cell_type": "markdown",
   "metadata": {},
   "source": [
    "\n"
   ]
  },
  {
   "cell_type": "markdown",
   "metadata": {},
   "source": [
    "## PH - Power Of Hydrogen\n",
    "<h4><b>Formula: </b>pH = 8.339 - 0.827 * (B1/B8)</h4>\n"
   ]
  },
  {
   "cell_type": "code",
   "execution_count": null,
   "metadata": {},
   "outputs": [],
   "source": [
    "Map.addLayer(sentinel, {'bands': ['B4', 'B3', 'B2'], 'min': 0, 'max': 3000}, 'RGB')\n",
    "Map.addLayer(ph, {'min': 6, 'max': 9, 'palette': ['red', 'green', 'purple']}, 'pH')\n",
    "Map"
   ]
  },
  {
   "cell_type": "markdown",
   "metadata": {},
   "source": [
    "## NDTI - Normalize Difference Turbidity Index\n",
    "<h4>The Normalize Difference Turbidity Index (NDTI) which is estimated using the spectral reflectance values of the water pixels is used to estimate the turbidity in water bodies. It uses the phenomenon that the electromagnetic reflectance is higher in green spectrum than the red spectrum for clear water.</h4>"
   ]
  },
  {
   "cell_type": "code",
   "execution_count": null,
   "metadata": {},
   "outputs": [],
   "source": [
    "Map.addLayer(sentinel, {'bands': ['B4', 'B3', 'B2'], 'min': 0, 'max': 3000}, 'RGB')\n",
    "Map.addLayer(ndti, {'min': -1, 'max': 1, 'palette': ['black', 'yellow', 'red']}, 'NDTI')\n",
    "Map"
   ]
  },
  {
   "cell_type": "markdown",
   "metadata": {},
   "source": [
    "## NDCI - Normalised Diffrence Chlorophyll Index\n",
    "<h4>NDCI is an index that aims to predict the plant chlorophyll content. It is calculated using the red spectral band B04 with the red edge spectral band B05</h4>"
   ]
  },
  {
   "cell_type": "code",
   "execution_count": null,
   "metadata": {},
   "outputs": [],
   "source": [
    "Map.addLayer(sentinel, {'bands': ['B4', 'B3', 'B2'], 'min': 0, 'max': 3000}, 'RGB')\n",
    "Map.addLayer(ndci, {'min': -1, 'max': 1, 'palette': ['white', 'black','yellow']}, 'NDCI')\n",
    "Map"
   ]
  },
  {
   "cell_type": "markdown",
   "metadata": {},
   "source": [
    "## DO - Dissolved Oxygen \n",
    "<h4>Dissolved oxygen (DO) is the amount of oxygen that is present in water. Water bodies receive oxygen from the atmosphere and from aquatic plants. Running water, such as that of a swift moving stream, dissolves more oxygen than the still water of a pond or lake.</h4>"
   ]
  },
  {
   "cell_type": "code",
   "execution_count": null,
   "metadata": {},
   "outputs": [],
   "source": [
    "Map.addLayer(sentinel, {'bands': ['B4', 'B3', 'B2'], 'min': 0, 'max': 3000}, 'RGB')\n",
    "Map.addLayer(dissolvedoxygen, {'min': 0, 'max': 20, 'palette': ['white', 'black', 'teal']}, 'Dissolved Oxygen')\n",
    "Map"
   ]
  },
  {
   "cell_type": "markdown",
   "metadata": {
    "id": "uOXuNFB0EGPO"
   },
   "source": [
    "### Landsat-8 (Temperature)"
   ]
  },
  {
   "cell_type": "code",
   "execution_count": null,
   "metadata": {
    "id": "DAUeyxcvmpvF"
   },
   "outputs": [],
   "source": [
    "col = ee.ImageCollection('LANDSAT/LC08/C02/T1_L2') \\\n",
    ".filterDate(start_date,end_date) \\\n",
    ".filterBounds(vectors).median()\n",
    "temp  = col.select('ST_B10').multiply(0.00341802).add(149.0).subtract(273.15).rename('temp')\n"
   ]
  },
  {
   "cell_type": "code",
   "execution_count": null,
   "metadata": {},
   "outputs": [],
   "source": [
    "Map.addLayer(temp, {'min': -30, 'max': 30, 'palette': ['red', 'white', 'black']}, 'Temperature')\n",
    "Map"
   ]
  }
 ],
 "metadata": {
  "colab": {
   "name": "Water_Quality_parameters_Shinai_Lake.ipynb",
   "provenance": []
  },
  "kernelspec": {
   "display_name": "Python 3 (ipykernel)",
   "language": "python",
   "name": "python3"
  },
  "language_info": {
   "codemirror_mode": {
    "name": "ipython",
    "version": 3
   },
   "file_extension": ".py",
   "mimetype": "text/x-python",
   "name": "python",
   "nbconvert_exporter": "python",
   "pygments_lexer": "ipython3",
   "version": "3.9.13"
  },
  "vscode": {
   "interpreter": {
    "hash": "aee8b7b246df8f9039afb4144a1f6fd8d2ca17a180786b69acc140d282b71a49"
   }
  }
 },
 "nbformat": 4,
 "nbformat_minor": 4
}
