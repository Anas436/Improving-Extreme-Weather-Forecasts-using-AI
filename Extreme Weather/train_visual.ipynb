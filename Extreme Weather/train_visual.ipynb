{
 "cells": [
  {
   "cell_type": "code",
   "execution_count": null,
   "metadata": {
    "id": "eaWbKzcomdKN"
   },
   "outputs": [],
   "source": [
    "import pandas as pd\n",
    "import numpy as np\n",
    "import matplotlib.pyplot as plt\n",
    "import seaborn as sns\n",
    "from scipy.stats import normaltest"
   ]
  },
  {
   "cell_type": "code",
   "execution_count": null,
   "metadata": {
    "id": "uwJl-K1bmdKS",
    "outputId": "f5bd271f-3532-48bf-df64-2cc7be1030a9"
   },
   "outputs": [],
   "source": [
    "dataset=pd.read_csv('train_data.csv')\n",
    "dataset.head()"
   ]
  },
  {
   "cell_type": "markdown",
   "metadata": {
    "id": "3_rCXjQ7mdKU"
   },
   "source": [
    "contest-slp-14d: file containing sea level pressure (slp)\n",
    "\n",
    "nmme0-tmp2m-34w: file containing most recent monthly NMME model forecasts for tmp2m (cancm30,\n",
    "cancm40, ccsm30, ccsm40, cfsv20, gfdlflora0, gfdlflorb0, gfdl0, nasa0,\n",
    "nmme0mean) and average forecast across those models (nmme0mean)\n",
    "\n",
    "contest-pres-sfc-gauss-14d: pressure\n",
    "\n",
    "mjo1d: MJO phase and amplitude\n",
    "\n",
    "contest-pevpr-sfc-gauss-14d: potential evaporation\n",
    "\n",
    "contest-wind-h850-14d: geopotential height at 850 millibars\n",
    "\n",
    "contest-wind-h500-14d: geopotential height at 500 millibars\n",
    "contest-wind-h100-14d: geopotential height at 100 millibars\n",
    "\n",
    "contest-wind-h10-14d: geopotential height at 10 millibars\n",
    "\n",
    "contest-wind-vwnd-925-14d: longitudinal wind at 925 millibars\n",
    "\n",
    "contest-wind-vwnd-250-14d: longitudinal wind at 250 millibars\n",
    "contest-wind-uwnd-250-14d: zonal wind at 250 millibars\n",
    "\n",
    "contest-wind-uwnd-925-14d: zonal wind at 925 millibars\n",
    "\n",
    "contest-rhum-sig995-14d: relative humidity\n",
    "\n",
    "contest-prwtr-eatm-14d: precipitable water for entire atmosphere\n",
    "nmme-prate-34w: weeks 3-4 weighted average of monthly NMME model forecasts for precipitation\n",
    "\n",
    "nmme-prate-56w: weeks 5-6 weighted average of monthly NMME model forecasts for precipitation\n",
    "nmme0-prate-56w: weeks 5-6 weighted average of most recent monthly NMME model forecasts for precipitation\n",
    "\n",
    "nmme0-prate-34w: weeks 3-4 weighted average of most recent monthly NMME model forecasts for precipitation\n",
    "\n",
    "nmme-tmp2m-34w: weeks 3-4 weighted average of most recent monthly NMME model forecasts for target label, contest-tmp2m-14d__tmp2m\n",
    "\n",
    "nmme-tmp2m-56w: weeks 5-6 weighted average of monthly NMME model forecasts for target label, contest-tmp2m-14d__tmp2m\n",
    "\n",
    "mei: MEI (mei), MEI rank (rank), and Niño Index Phase (nip)\n",
    "\n",
    "elevation: elevation\n",
    "\n",
    "contest-precip-14d: measured precipitation\n",
    "\n",
    "climateregions: Köppen-Geigerclimateclassifications"
   ]
  },
  {
   "cell_type": "code",
   "execution_count": null,
   "metadata": {
    "id": "qzTgL0KhmdKX",
    "outputId": "a850569c-2e39-4023-ca2d-037ee8121ff6"
   },
   "outputs": [],
   "source": [
    "dataset.info()"
   ]
  },
  {
   "cell_type": "code",
   "execution_count": null,
   "metadata": {
    "id": "3Obmypx4mdKY"
   },
   "outputs": [],
   "source": [
    "train_data=dataset.copy()"
   ]
  },
  {
   "cell_type": "markdown",
   "metadata": {
    "id": "CosaBNpBmdKY"
   },
   "source": [
    "Let's delete: the \"index\" column\n",
    "\n",
    "\n",
    "\n",
    "\n",
    "\n",
    "\n",
    "\n",
    "\n",
    "Let's check what columns we have missing values and how many values we are missing"
   ]
  },
  {
   "cell_type": "code",
   "execution_count": null,
   "metadata": {
    "id": "JlX3gNozmdKZ"
   },
   "outputs": [],
   "source": [
    "del train_data['index']"
   ]
  },
  {
   "cell_type": "code",
   "execution_count": null,
   "metadata": {
    "id": "FCCnXdyEmdKZ"
   },
   "outputs": [],
   "source": [
    "col_null_values=[colu for colu  in train_data.columns if  train_data[colu].isnull().any()]"
   ]
  },
  {
   "cell_type": "code",
   "execution_count": null,
   "metadata": {
    "id": "-J9PuvuzmdKa",
    "outputId": "6228e497-5009-4d09-bbdd-1813bc383cd1"
   },
   "outputs": [],
   "source": [
    "col_null_values"
   ]
  },
  {
   "cell_type": "code",
   "execution_count": null,
   "metadata": {
    "id": "jhIB999_mdKb",
    "outputId": "1fa6fd7b-b8c9-4783-c89d-ab9761f6f38a"
   },
   "outputs": [],
   "source": [
    "miss_values=[]\n",
    "for i in col_null_values:\n",
    "    miss_values.append(train_data[i].isnull().sum())\n",
    "miss_values"
   ]
  },
  {
   "cell_type": "markdown",
   "metadata": {
    "id": "WcD_vr5LmdKb"
   },
   "source": [
    "Let's create a dataframe with two columns: col_null_values and null values"
   ]
  },
  {
   "cell_type": "code",
   "execution_count": null,
   "metadata": {
    "id": "40-1XbYNmdKc"
   },
   "outputs": [],
   "source": [
    "missing_values_count={'column_name':col_null_values, 'null_values': miss_values}\n",
    "missing_values_count=pd.DataFrame(missing_values_count)"
   ]
  },
  {
   "cell_type": "code",
   "execution_count": null,
   "metadata": {
    "id": "Qp1VlXwjmdKc",
    "outputId": "1675cdfb-3e09-4972-9c46-3a45c76fa2b8"
   },
   "outputs": [],
   "source": [
    "missing_values_count"
   ]
  },
  {
   "cell_type": "code",
   "execution_count": null,
   "metadata": {
    "id": "tWylsBWSmdKc",
    "outputId": "0d8990c9-4c34-45f5-e8d5-e2308f95f34c"
   },
   "outputs": [],
   "source": [
    "train_data['climateregions__climateregion'].unique()"
   ]
  },
  {
   "cell_type": "markdown",
   "metadata": {
    "id": "SigWON7XmdKd"
   },
   "source": [
    "Köppen climate classification scheme symbols description\n",
    "\n",
    "\n",
    "\n",
    "A (Tropical)\t\n",
    "f (Rainforest)\n",
    "m (Monsoon)\n",
    "w (Savanna, dry winter)\n",
    "s (Savanna, dry summer)\n",
    "\n",
    "B (Dry)\t\n",
    "W (Arid Desert)\n",
    "S (Semi-Arid or steppe)\n",
    "\n",
    "h (Hot)\n",
    "k (Cold)\n",
    "\n",
    "C (Temperate)\t\n",
    "w (Dry winter)\n",
    "f (No dry season)\n",
    "s (Dry summer)\n",
    "\n",
    "a (Hot summer)\n",
    "b (Warm summer)\n",
    "c (Cold summer)\n",
    "\n",
    "D (Continental)\t\n",
    "w (Dry winter)\n",
    "f (No dry season)\n",
    "s (Dry summer)\n",
    "\n",
    "a (Hot summer)\n",
    "b (Warm summer)\n",
    "c (Cold summer)\n",
    "d (Very cold winter)\n",
    "\n",
    "E (Polar)\t\t\n",
    "T (Tundra)\n",
    "F (Ice cap)"
   ]
  },
  {
   "cell_type": "code",
   "execution_count": null,
   "metadata": {
    "id": "7V5LOPGlmdKd"
   },
   "outputs": [],
   "source": []
  },
  {
   "cell_type": "code",
   "execution_count": null,
   "metadata": {
    "id": "M4QGjh5XmdKd"
   },
   "outputs": [],
   "source": [
    "train_data['year']=pd.DatetimeIndex(train_data['startdate']).year"
   ]
  },
  {
   "cell_type": "code",
   "execution_count": null,
   "metadata": {
    "id": "EZB4nPcTmdKe",
    "outputId": "366d4201-c7d4-4786-e2e0-86015047ef99"
   },
   "outputs": [],
   "source": [
    "data=train_data[['year','contest-precip-14d__precip']].sort_values(by='year',ascending=False)\n",
    "data"
   ]
  },
  {
   "cell_type": "code",
   "execution_count": null,
   "metadata": {
    "id": "ud0oOhCOmdKe",
    "outputId": "25435455-0e57-47e1-f806-8c2de7c2490f"
   },
   "outputs": [],
   "source": [
    "data['year'].value_counts().head(30).plot(kind='barh', figsize=(6,10),color='#002542')\n",
    "plt.title('Years',fontdict={'fontsize': 18})"
   ]
  },
  {
   "cell_type": "code",
   "execution_count": null,
   "metadata": {
    "id": "Q6Q3vqT7mdKe",
    "outputId": "a6e17c0c-4514-497d-d17e-c24337fb1141"
   },
   "outputs": [],
   "source": [
    "sns.catplot(\n",
    "    data=data,\n",
    "    x='year',\n",
    "    y='contest-precip-14d__precip',\n",
    "    row='year',\n",
    "    kind='box',\n",
    "    height=3, \n",
    "    aspect=4,\n",
    "    color='blue') "
   ]
  },
  {
   "cell_type": "code",
   "execution_count": null,
   "metadata": {
    "id": "UheED6PwmdKe",
    "outputId": "8985369b-2f28-47ea-9d54-28f4d48aab02"
   },
   "outputs": [],
   "source": [
    "sns.distplot(data['contest-precip-14d__precip'],bins=20).set_title('Precipitation')"
   ]
  },
  {
   "cell_type": "code",
   "execution_count": null,
   "metadata": {
    "id": "e16peICjmdKe",
    "outputId": "a11d76ac-b40e-42b6-d2b4-fd599137293b"
   },
   "outputs": [],
   "source": [
    "data1=train_data[['elevation__elevation','contest-precip-14d__precip']]\n"
   ]
  },
  {
   "cell_type": "code",
   "execution_count": null,
   "metadata": {
    "id": "ATUMjdQCmdKf",
    "outputId": "afcd29df-3f0e-4f89-9cb7-23c45aed0a90"
   },
   "outputs": [],
   "source": [
    "correlation = data1.corr()\n",
    "fig = plt.figure()\n",
    "ax = fig.add_subplot(111)\n",
    "cax = ax.matshow(correlation,cmap='coolwarm', vmin=-1, vmax=1)\n",
    "fig.colorbar(cax)\n",
    "ticks = np.arange(0,len(data1.columns),1)\n",
    "ax.set_xticks(ticks)\n",
    "plt.xticks(rotation=90)\n",
    "ax.set_yticks(ticks)\n",
    "ax.set_xticklabels(data1.columns)\n",
    "ax.set_yticklabels(data1.columns)\n",
    "plt.show()"
   ]
  },
  {
   "cell_type": "code",
   "execution_count": null,
   "metadata": {
    "id": "w4N54Y77mdKf"
   },
   "outputs": [],
   "source": []
  },
  {
   "cell_type": "code",
   "execution_count": null,
   "metadata": {
    "id": "H7kEzNPamdKf"
   },
   "outputs": [],
   "source": []
  },
  {
   "cell_type": "code",
   "execution_count": null,
   "metadata": {
    "id": "KvfPz4l-mdKf"
   },
   "outputs": [],
   "source": []
  },
  {
   "cell_type": "markdown",
   "metadata": {
    "id": "mNHrboY0mdKf"
   },
   "source": [
    "Normal test on target value:"
   ]
  },
  {
   "cell_type": "code",
   "execution_count": null,
   "metadata": {
    "id": "skyq6mukmdKf",
    "outputId": "5d42a05f-91e0-4013-d829-f32836441bc0"
   },
   "outputs": [],
   "source": [
    "train_data['contest-tmp2m-14d__tmp2m']"
   ]
  },
  {
   "cell_type": "code",
   "execution_count": null,
   "metadata": {
    "id": "KVdAp-EwmdKf",
    "outputId": "c930babc-ff77-4751-c708-de752ae49264"
   },
   "outputs": [],
   "source": [
    "plt.hist(train_data['contest-tmp2m-14d__tmp2m'], bins=20, density=True, color='b')\n",
    "plt.xlabel('Variable')\n",
    "plt.ylabel('Frequency')\n",
    "plt.title('contest-tmp2m-14d__tmp2m')\n",
    "plt.show()"
   ]
  },
  {
   "cell_type": "code",
   "execution_count": null,
   "metadata": {
    "id": "EqfeM9jmmdKg"
   },
   "outputs": [],
   "source": [
    "#significance\n",
    "significance=0.05"
   ]
  },
  {
   "cell_type": "code",
   "execution_count": null,
   "metadata": {
    "id": "UZFJyxszmdKg",
    "outputId": "8f693218-e580-444e-a955-c4c150ec777f"
   },
   "outputs": [],
   "source": [
    "stats,p_value=normaltest(train_data['contest-tmp2m-14d__tmp2m'])\n",
    "print(stats)\n",
    "print(p_value)"
   ]
  },
  {
   "cell_type": "code",
   "execution_count": null,
   "metadata": {
    "id": "KvfvJLBpmdKg",
    "outputId": "f21bdc3c-55bb-44ee-f4b9-8d0858415777"
   },
   "outputs": [],
   "source": [
    "if(p_value <= significance):\n",
    "    print('Reject H0')\n",
    "else:\n",
    "    print('Accept H0')"
   ]
  },
  {
   "cell_type": "code",
   "execution_count": null,
   "metadata": {
    "id": "ABOi11xRmdKg"
   },
   "outputs": [],
   "source": []
  },
  {
   "cell_type": "code",
   "execution_count": null,
   "metadata": {
    "id": "quqfAQwmmdKg"
   },
   "outputs": [],
   "source": []
  },
  {
   "cell_type": "code",
   "execution_count": null,
   "metadata": {
    "id": "nVaLvfZCmdKg"
   },
   "outputs": [],
   "source": []
  },
  {
   "cell_type": "code",
   "execution_count": null,
   "metadata": {
    "id": "uXf3RalumdKg"
   },
   "outputs": [],
   "source": []
  }
 ],
 "metadata": {
  "colab": {
   "provenance": []
  },
  "kernelspec": {
   "display_name": "Python 3 (ipykernel)",
   "language": "python",
   "name": "python3"
  },
  "language_info": {
   "codemirror_mode": {
    "name": "ipython",
    "version": 3
   },
   "file_extension": ".py",
   "mimetype": "text/x-python",
   "name": "python",
   "nbconvert_exporter": "python",
   "pygments_lexer": "ipython3",
   "version": "3.9.13"
  },
  "vscode": {
   "interpreter": {
    "hash": "0c880bf50398c9e6ebbd48c247ea31cff5c6f8ce48b9cfb1b78e929d6cc40437"
   }
  }
 },
 "nbformat": 4,
 "nbformat_minor": 4
}
