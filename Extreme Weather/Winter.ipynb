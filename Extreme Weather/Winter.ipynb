{
 "cells": [
  {
   "cell_type": "markdown",
   "metadata": {},
   "source": [
    "#### Importing all the Libraries"
   ]
  },
  {
   "cell_type": "code",
   "execution_count": null,
   "metadata": {},
   "outputs": [],
   "source": [
    "import numpy as np                                      # Numpy for arrays...\n",
    "import pandas as pd                                     # Pandas for datasets...\n",
    "from sklearn.base import BaseEstimator, TransformerMixin     # Pipelining...\n",
    "import matplotlib.pyplot as plt                         # Visualization library...\n",
    "import seaborn as sns                                   # Visualization library...\n",
    "import plotly.express as px                             # Visualization library...\n",
    "from sklearn.pipeline import Pipeline                    # Pipeline for Integrating Pipelines..."
   ]
  },
  {
   "cell_type": "markdown",
   "metadata": {},
   "source": [
    "    This dataset is from the pre-processed dataset from Weather.ipynb"
   ]
  },
  {
   "cell_type": "code",
   "execution_count": null,
   "metadata": {},
   "outputs": [],
   "source": [
    "dataset = pd.read_csv(\"E:/Omdena/1.Xtreme Weather Forcasting/Data/updated_train_data.csv\")\n",
    "dataset.shape"
   ]
  },
  {
   "cell_type": "markdown",
   "metadata": {},
   "source": [
    "Now we will first extract the Winter Season Months - December, January and February."
   ]
  },
  {
   "cell_type": "markdown",
   "metadata": {},
   "source": [
    "    For Multiple Conditions we use | (overloaded operator) with Pandas library."
   ]
  },
  {
   "cell_type": "code",
   "execution_count": null,
   "metadata": {},
   "outputs": [],
   "source": [
    "Winter = dataset[(dataset['Month'] == 12) | (dataset['Month'] == 1) | (dataset['Month'] == 2)]\n",
    "Winter['Month'].unique()      # Cross checking the Months in the Winter Season..."
   ]
  },
  {
   "cell_type": "markdown",
   "metadata": {},
   "source": [
    "#### Using Pipeline for Nomenclature of dataset columns to make them more understandable and easy to use."
   ]
  },
  {
   "cell_type": "code",
   "execution_count": null,
   "metadata": {},
   "outputs": [],
   "source": [
    "class RenamingWinds(BaseEstimator, TransformerMixin):    \n",
    "    def fit(self, X, y=None):\n",
    "        return self\n",
    "    \n",
    "    def transform(self, X):\n",
    "        X['Height10'] = X['contest-wind-h10-14d__wind-hgt-10']\n",
    "        X['Height100'] = X['contest-wind-h100-14d__wind-hgt-100']\n",
    "        X['Height500'] = X['contest-wind-h500-14d__wind-hgt-500']\n",
    "        X['Height850'] = X['contest-wind-h850-14d__wind-hgt-850']\n",
    "        X['LongitudinalWind925'] = X['contest-wind-vwnd-925-14d__wind-vwnd-925']\n",
    "        X['LongitudinalWind250'] = X['contest-wind-vwnd-250-14d__wind-vwnd-250']\n",
    "        X['ZonalWind250'] = X['contest-wind-uwnd-250-14d__wind-uwnd-250']\n",
    "        X['ZonalWind925'] = X['contest-wind-uwnd-925-14d__wind-uwnd-925']\n",
    "        X = X.drop(['contest-wind-h10-14d__wind-hgt-10', 'contest-wind-h100-14d__wind-hgt-100', 'contest-wind-h500-14d__wind-hgt-500', 'contest-wind-h850-14d__wind-hgt-850', 'contest-wind-vwnd-925-14d__wind-vwnd-925', 'contest-wind-vwnd-250-14d__wind-vwnd-250', 'contest-wind-uwnd-250-14d__wind-uwnd-250', 'contest-wind-uwnd-925-14d__wind-uwnd-925'], axis=1)\n",
    "        return X"
   ]
  },
  {
   "cell_type": "code",
   "execution_count": null,
   "metadata": {},
   "outputs": [],
   "source": [
    "class RenamingTemperatures(BaseEstimator, TransformerMixin):\n",
    "    def fit(self, X, y=None):\n",
    "        return self\n",
    "    \n",
    "    def transform(self, X):\n",
    "        X['Mean0Temperature34w'] = X['nmme0-tmp2m-34w__nmme0mean']    # Most Recent Mean...\n",
    "        X['Temperature'] = X['contest-tmp2m-14d__tmp2m']\n",
    "        X['MeanTemperature34w'] = X['nmme-tmp2m-34w__nmmemean']\n",
    "        X['Nmme0Mean'] = X['nmme0mean']        # NMME Mean...\n",
    "        X['Evaporation'] = X['contest-pevpr-sfc-gauss-14d__pevpr']\n",
    "        X['RecentCancmPrate56w'] = X['nmme0-prate-56w__cancm40']    # Cancm40 is taken...\n",
    "        X['RecentCcsmPrate56w'] = X['nmme0-prate-56w__ccsm30']     # Ccsm30 is taken...\n",
    "        X['CancmPrate56w'] = X['nmme-prate-56w__cancm4']              # Cancm4...\n",
    "        X['Ccsm3Prate56w'] = X['nmme-prate-56w__ccsm3']                # Ccsm3...\n",
    "        X = X.drop(['nmme0-tmp2m-34w__nmme0mean', 'contest-tmp2m-14d__tmp2m', 'nmme0mean', 'nmme-tmp2m-34w__nmmemean', 'contest-pevpr-sfc-gauss-14d__pevpr', 'nmme0-prate-56w__cancm40', 'nmme0-prate-56w__ccsm30', 'nmme-prate-56w__cancm4', 'nmme-prate-56w__ccsm3'], axis=1)\n",
    "        return X"
   ]
  },
  {
   "cell_type": "code",
   "execution_count": null,
   "metadata": {},
   "outputs": [],
   "source": [
    "class RenamingPrecipitation(BaseEstimator, TransformerMixin):\n",
    "    def fit(self, X, y=None):\n",
    "        return self\n",
    "    \n",
    "    def transform(self, X):\n",
    "        X['Humidity'] = X['contest-rhum-sig995-14d__rhum']\n",
    "        X['SeaLevelPressure'] = X['contest-slp-14d__slp']\n",
    "        X['Pressure'] = X['contest-pres-sfc-gauss-14d__pres']\n",
    "        X['AtmosphericPrecipitate'] = X['contest-prwtr-eatm-14d__prwtr']\n",
    "        X['Precipitation'] = X['contest-precip-14d__precip']\n",
    "        X['Elevation'] = X['elevation__elevation']\n",
    "        X['Regions'] = X['climateregions__climateregion']\n",
    "        X = X.drop(['contest-rhum-sig995-14d__rhum', 'contest-slp-14d__slp', 'contest-pres-sfc-gauss-14d__pres', 'contest-precip-14d__precip', 'elevation__elevation', 'climateregions__climateregion', 'contest-prwtr-eatm-14d__prwtr'], axis=1)\n",
    "        return X"
   ]
  },
  {
   "cell_type": "code",
   "execution_count": null,
   "metadata": {},
   "outputs": [],
   "source": [
    "class ElNinoFactors(BaseEstimator, TransformerMixin):\n",
    "    def fit(self, X, y=None):\n",
    "        return self\n",
    "    \n",
    "    def transform(self, X):\n",
    "        X['ElNinoLongitudinalWind250Mean'] = X['wind-vwnd-250-2010-mean']\n",
    "        X['ElNinoZonalWind250Mean'] = X['wind-uwnd-250-2010-mean']\n",
    "        X['ElNinoZonalWind925Mean'] = X['wind-uwnd-925-2010-mean']\n",
    "        X['ElNinoLongitudinalWind925Mean'] = X['wind-vwnd-925-2010-mean']\n",
    "        X['GlacierFactorMean'] = X['icec-2010-mean']\n",
    "        X['ElNinoHeight10Mean'] = X['wind-hgt-10-2010-mean']\n",
    "        X['ElNinoHeight100Mean'] = X['wind-hgt-100-2010-mean']\n",
    "        X['ElNinoHeight500Mean'] = X['wind-hgt-500-2010-mean']\n",
    "        X['ElNinoHeight850Mean'] = X['wind-hgt-850-2010-mean']\n",
    "        X['ElNinoSeaTemperatureMean'] = X['sst-2010-mean']\n",
    "        X = X.drop(['wind-vwnd-250-2010-mean', 'wind-uwnd-925-2010-mean', 'wind-uwnd-250-2010-mean', 'wind-vwnd-925-2010-mean', 'icec-2010-mean', 'wind-hgt-850-2010-mean', 'wind-hgt-500-2010-mean', 'wind-hgt-100-2010-mean', 'wind-hgt-10-2010-mean', 'sst-2010-mean'], axis=1)\n",
    "        return X"
   ]
  },
  {
   "cell_type": "code",
   "execution_count": null,
   "metadata": {},
   "outputs": [],
   "source": [
    "class RenamingRatio(BaseEstimator, TransformerMixin):\n",
    "    def fit(self, X, y=None):\n",
    "        return self\n",
    "    \n",
    "    def transform(self, X):\n",
    "        X['MEI'] = X['mei__mei']\n",
    "        X['MEIrank'] = X['mei__meirank']\n",
    "        X['MEInip'] = X['mei__nip']\n",
    "        X['MJOphase'] = X['mjo1d__phase']\n",
    "        X['MJOamplitude'] = X['mjo1d__amplitude']\n",
    "        X = X.drop(['mei__mei', 'mei__meirank', 'mei__nip', 'mjo1d__phase', 'mjo1d__amplitude'], axis=1)\n",
    "        return X"
   ]
  },
  {
   "cell_type": "markdown",
   "metadata": {},
   "source": [
    "#### Renaming the Columns so that the nomenclature of the datset is more refined and understandable."
   ]
  },
  {
   "cell_type": "code",
   "execution_count": null,
   "metadata": {},
   "outputs": [],
   "source": [
    "RenamingColumnPipe = Pipeline([\n",
    "    (\"RenameI\", RenamingWinds()),\n",
    "    (\"RenameII\", RenamingTemperatures()),\n",
    "    (\"RenameIII\", RenamingPrecipitation()),\n",
    "    (\"RenameIV\", ElNinoFactors()),\n",
    "    (\"RenameV\", RenamingRatio())\n",
    "])\n",
    "Winter = RenamingColumnPipe.fit_transform(Winter)"
   ]
  },
  {
   "cell_type": "code",
   "execution_count": null,
   "metadata": {},
   "outputs": [],
   "source": [
    "class RemovingDate(BaseEstimator, TransformerMixin):\n",
    "    def fit(self, X, y=None):\n",
    "        return self\n",
    "    \n",
    "    def transform(self, X):\n",
    "        X = X.drop(['date', 'Month', 'Year'], axis=1)\n",
    "        return X"
   ]
  },
  {
   "cell_type": "markdown",
   "metadata": {},
   "source": [
    "    We will now have a look at the MEI and MJO Attributes."
   ]
  },
  {
   "cell_type": "code",
   "execution_count": null,
   "metadata": {},
   "outputs": [],
   "source": [
    "df = pd.DataFrame()    # Dataframe created for checking the attributes...\n",
    "df['MEI'] = Winter['MEI']             # Three MEI Attributes...\n",
    "df['MEIrank'] = Winter['MEIrank']     \n",
    "df['MEInip'] = Winter['MEInip']\n",
    "df['MJOphase'] = Winter['MJOphase']   # Two MJO Attributes...\n",
    "df['MJOamplitude'] = Winter['MJOamplitude']\n",
    "df['Temperature'] = Winter['Temperature']       # Temperature..."
   ]
  },
  {
   "cell_type": "code",
   "execution_count": null,
   "metadata": {},
   "outputs": [],
   "source": [
    "DropTimePipe = Pipeline([\n",
    "    (\"Date\", RemovingDate())     # We removed date for now, otherwise it will create discrepancies in Correlation Matrix... \n",
    "])"
   ]
  },
  {
   "cell_type": "code",
   "execution_count": null,
   "metadata": {},
   "outputs": [],
   "source": [
    "def CorrelationMatrix():\n",
    "    plt.figure(figsize=(12, 6))\n",
    "    plt.title(\"Temperature Dependency On Ratio in Winter\", color=\"red\", size=18)\n",
    "    sns.heatmap(df.corr(), cmap=\"twilight_shifted\", annot=True)\n",
    "    plt.show()\n",
    "\n",
    "CorrelationMatrix()    # Correlation matrix function defined and called..."
   ]
  },
  {
   "cell_type": "markdown",
   "metadata": {},
   "source": [
    "#### Intuitions-\n",
    "1. Since MEI and MEIrank are well correlated we can exclude one of them, say MEIrank.\n",
    "2. Also only MJOphase has some degree of correlation to Temperature and MJOamplitude is very less significant, so we should take only one parameter i.e. MJOphase.\n",
    "3. Also, we will exclude MEInip since it has almost no significance in computation (0.059)"
   ]
  },
  {
   "cell_type": "markdown",
   "metadata": {},
   "source": [
    "    Now we will check for the correlation factors, firstly the ElNino parameters."
   ]
  },
  {
   "cell_type": "markdown",
   "metadata": {},
   "source": [
    "#### First Set Of Correlation Features."
   ]
  },
  {
   "cell_type": "code",
   "execution_count": null,
   "metadata": {},
   "outputs": [],
   "source": [
    "df1 = pd.DataFrame()\n",
    "df1['Temperature'] = Winter['Temperature']\n",
    "df1['ElNinoLongitudinalWind250Mean'] = Winter['ElNinoLongitudinalWind250Mean']\n",
    "df1['ElNinoZonalWind250Mean'] = Winter['ElNinoZonalWind250Mean']\n",
    "df1['ElNinoZonalWind925Mean'] = Winter['ElNinoZonalWind925Mean']\n",
    "df1['ElNinoZonalWind925Mean'] = Winter['ElNinoZonalWind925Mean']\n",
    "df1['ElNinoLongitudinalWind925Mean'] = Winter['ElNinoLongitudinalWind925Mean']\n",
    "df1['GlacierFactor'] = Winter['GlacierFactorMean']\n",
    "df1['ElNinoHeight10Mean'] = Winter['ElNinoHeight10Mean']\n",
    "df1['ElNinoHeight100Mean'] = Winter['ElNinoHeight100Mean']\n",
    "df1['ElNinoHeight500Mean'] = Winter['ElNinoHeight500Mean']\n",
    "df1['ElNinoHeight850Mean'] = Winter['ElNinoHeight850Mean']\n",
    "df1['ElNinoSeaTemperatureMean'] = Winter['ElNinoSeaTemperatureMean']\n",
    "df1['MJO'] = Winter['MJOphase']\n",
    "df1['MEI'] = Winter['MEI']"
   ]
  },
  {
   "cell_type": "code",
   "execution_count": null,
   "metadata": {},
   "outputs": [],
   "source": [
    "plt.figure(figsize=(14, 8))\n",
    "plt.title(\"ElNino Effects On Temperature in Winter Season\", color=\"blue\", size=20)\n",
    "sns.heatmap(df1.corr(), cmap=\"magma\", annot=True, linewidth=1, linecolor=\"#c64109\")\n",
    "plt.show()"
   ]
  },
  {
   "cell_type": "markdown",
   "metadata": {},
   "source": [
    "#### Intuitions-\n",
    "1. There are only a few factors which have some correlation with the Temperature variable, MJOPhase, GlacierFactor, ElNinoZonalWind250Mean, ElNinoHeight10Mean and ElNinoHeight500Mean.\n",
    "2. The Rest factors have effect less than even 1% ( less than 0.1 coefficient ). Also, all these irrelevant factors are somehow correlated to the relevant ones with a high value of correlation. So we can exclude the irrelevant factors."
   ]
  },
  {
   "cell_type": "markdown",
   "metadata": {},
   "source": [
    "#### Second Set of Correlation Features"
   ]
  },
  {
   "cell_type": "code",
   "execution_count": null,
   "metadata": {},
   "outputs": [],
   "source": [
    "df2 = pd.DataFrame()\n",
    "df2['Height10'] = Winter['Height10']\n",
    "df2['Height100'] = Winter['Height100']\n",
    "df2['Height500'] = Winter['Height500']\n",
    "df2['Height850'] = Winter['Height850']\n",
    "df2['LongitudinalWind925'] = Winter['LongitudinalWind925']\n",
    "df2['LongitudinalWind250'] = Winter['LongitudinalWind250']\n",
    "df2['ZonalWind250'] = Winter['ZonalWind250']\n",
    "df2['ZonalWind925'] = Winter['ZonalWind925']\n",
    "df2['Mean0Temperature34w'] = Winter['Mean0Temperature34w']\n",
    "df2['Temperature'] = Winter['Temperature']\n",
    "df2['MeanTemperature34w'] = Winter['MeanTemperature34w']\n",
    "df2['Nmme0Mean'] = Winter['Nmme0Mean']"
   ]
  },
  {
   "cell_type": "code",
   "execution_count": null,
   "metadata": {},
   "outputs": [],
   "source": [
    "plt.figure(figsize=(14, 8))\n",
    "plt.title(\"Environmental Factors Effects On Temperature in Winter Season\", color=\"blue\", size=20)\n",
    "sns.heatmap(df2.corr(), cmap=\"Spectral\", annot=True, linewidth=1, linecolor=\"#c64109\")\n",
    "plt.show()"
   ]
  },
  {
   "cell_type": "markdown",
   "metadata": {},
   "source": [
    "#### Intuitions-\n",
    "1. Height10 and ZonalWind250 have the same correlation value on Temperature (both have a coefficient of 0.27).\n",
    "2. MeanTemperature34w and Height100 are well correlated to Target Temperature (0.81, 0.84).\n",
    "3. Height100 and Height500 are well correlated (0.91), so we will remove Height500.\n",
    "4. MeanTemperature34w and Mean0Temperature34w is well correlated to each other (0.87), so we will remove the Mean0Temperature34w, since it has lower correlation value to Temperature as compared to that of Mean0Temperature34w."
   ]
  },
  {
   "cell_type": "markdown",
   "metadata": {},
   "source": [
    "#### Third Set of Correlation Features."
   ]
  },
  {
   "cell_type": "code",
   "execution_count": null,
   "metadata": {},
   "outputs": [],
   "source": [
    "df = pd.DataFrame()\n",
    "df['Evaporation'] = Winter['Evaporation']\n",
    "df['RecentCancm'] = Winter['RecentCancmPrate56w']\n",
    "df['RecentCcsm'] = Winter['RecentCcsmPrate56w']\n",
    "df['CancmPrate'] = Winter['CancmPrate56w']\n",
    "df['Ccsm3Prate'] = Winter['Ccsm3Prate56w']\n",
    "df['Humidity'] = Winter['Humidity']\n",
    "df['SLP'] = Winter['SeaLevelPressure']\n",
    "df['Pressure'] = Winter['Pressure']\n",
    "df['AtmosphericPrecipitate'] = Winter['AtmosphericPrecipitate']\n",
    "df['Precipitation'] = Winter['Precipitation']\n",
    "df['Elevation'] = Winter['Elevation']\n",
    "df['Temperature'] = Winter['Temperature']"
   ]
  },
  {
   "cell_type": "code",
   "execution_count": null,
   "metadata": {},
   "outputs": [],
   "source": [
    "plt.figure(figsize=(14, 8))\n",
    "plt.title(\"Environmental Factors Effects On Temperature in Winter Season\", color=\"blue\", size=20)\n",
    "sns.heatmap(df.corr(), cmap=\"afmhot\", annot=True, linewidth=1, linecolor=\"#fc0059\")\n",
    "plt.show()"
   ]
  },
  {
   "cell_type": "markdown",
   "metadata": {},
   "source": [
    "#### Intuition-\n",
    "1. Cancm Attributes show better correlation than Ccsm Attributes with respect to temperature. So we will take the better one, since both are Weather Stations so we can take one of them.\n",
    "2. Evaporation and AtmosphericPrecipitate are the most significant variables have effect on Temperature (0.74 and 0.63).\n",
    "3. Since Pressure and Elevation are well correlated we can drop one of them (Elevation). Similarly we can do for Evaporation and Humidity, we will drop Humidity in this case."
   ]
  },
  {
   "cell_type": "code",
   "execution_count": null,
   "metadata": {},
   "outputs": [],
   "source": [
    "class RemoveIrrelevantColumns(BaseEstimator, TransformerMixin):      # Removing the insignificant Columns...\n",
    "    def fit(self, X, y=None):\n",
    "        return self\n",
    "    \n",
    "    def transform(self, X):\n",
    "        X = X.drop(['MEIrank', 'MEInip', 'MJOamplitude', 'ElNinoLongitudinalWind250Mean', 'ElNinoLongitudinalWind250Mean', 'ElNinoZonalWind250Mean', 'ElNinoHeight100Mean', 'ElNinoHeight850Mean', 'ElNinoSeaTemperatureMean', 'MEI'], axis=1)\n",
    "        return X"
   ]
  },
  {
   "cell_type": "code",
   "execution_count": null,
   "metadata": {},
   "outputs": [],
   "source": [
    "class RemoveEnvironmentalFactors(BaseEstimator, TransformerMixin):\n",
    "    def fit(self, X, y=None):       # Removing the columns from the Environmental Factors Heatmap...\n",
    "        return self\n",
    "    \n",
    "    def transform(self, X):\n",
    "        X = X.drop(['ZonalWind250', 'Mean0Temperature34w', 'Height500'], axis=1)\n",
    "        return X"
   ]
  },
  {
   "cell_type": "code",
   "execution_count": null,
   "metadata": {},
   "outputs": [],
   "source": [
    "class RemoveOtherFactors(BaseEstimator, TransformerMixin):\n",
    "    def fit(self, X, y=None):\n",
    "        return self\n",
    "    \n",
    "    def transform(self, X):\n",
    "        X = X.drop(['RecentCcsmPrate56w', 'Ccsm3Prate56w', 'Humidity', 'Elevation'], axis=1)\n",
    "        return X"
   ]
  },
  {
   "cell_type": "markdown",
   "metadata": {},
   "source": [
    "    Used the Nested Pipelining property to club various Pipelines created."
   ]
  },
  {
   "cell_type": "code",
   "execution_count": null,
   "metadata": {},
   "outputs": [],
   "source": [
    "Pipe = Pipeline([\n",
    "    (\"DropI\", RemoveIrrelevantColumns()),\n",
    "    (\"DropII\", RemoveEnvironmentalFactors()),\n",
    "    (\"DropIII\", RemoveOtherFactors()),\n",
    "    (\"Pip\", DropTimePipe)      # Using Nested Pipe (A Pipe within another Pipe)...\n",
    "])\n",
    "WinterSeason = Pipe.fit_transform(Winter)\n",
    "WinterSeason = WinterSeason.drop(['startdate', 'Regions'], axis=1)\n",
    "WinterSeason.shape"
   ]
  },
  {
   "cell_type": "code",
   "execution_count": null,
   "metadata": {},
   "outputs": [],
   "source": [
    "plt.figure(figsize=(18, 9))\n",
    "plt.title(\"Final Correlation Matrix Of Winter Season\", color=\"blue\", size=20)\n",
    "sns.heatmap(WinterSeason.corr(), cmap=\"magma\", annot=True, linewidth=1, linecolor=\"#c64109\")\n",
    "plt.show()"
   ]
  },
  {
   "cell_type": "markdown",
   "metadata": {},
   "source": [
    "#### Intuitions-\n",
    "1. ElNinoZonalWind925Mean and ElNinoLongitudinalWind925Mean have almost negligible effect on other factors especially Temperature. So we can exclude both of them from the computation.\n",
    "2. The Temperature is not dependent upon Longitude but on Latitude. This gives us some hint like the winds are not flowing in Longitudinal Direction but at a Latitudinal Direction in Winters. Thus, we can remove the Longitudinal Winds from the dataset for Winter Season.\n",
    "3. Evaporation and Atmospheric Precipitate are a big driving force on Temperature in Winters (0.74 and 0.63).\n",
    "4. Height10 and CancmPrate56w have same effect on Temperature (0.27 and 0.28). So we will exclude the Cancm Precipitation Attributes.\n",
    "5. Similarly ElNinoHeight10Mean and Height10 are negatively correlated, so we will exclude ElNinoHeight10Mean."
   ]
  },
  {
   "cell_type": "code",
   "execution_count": null,
   "metadata": {},
   "outputs": [],
   "source": [
    "WinterSeason = WinterSeason.drop(['CancmPrate56w', 'RecentCancmPrate56w', 'LongitudinalWind925', 'LongitudinalWind250', 'ElNinoZonalWind925Mean', 'ElNinoLongitudinalWind925Mean', 'ElNinoHeight10Mean'], axis=1)                  # Dropping the insignificant columns...\n",
    "WinterSeason.shape"
   ]
  },
  {
   "cell_type": "code",
   "execution_count": null,
   "metadata": {},
   "outputs": [],
   "source": [
    "for columnName in WinterSeason.columns:\n",
    "    print(columnName)"
   ]
  },
  {
   "cell_type": "markdown",
   "metadata": {},
   "source": [
    "    Adding the date and the regions again..."
   ]
  },
  {
   "cell_type": "code",
   "execution_count": null,
   "metadata": {},
   "outputs": [],
   "source": [
    "WinterSeason['startdate'] = Winter['startdate']\n",
    "WinterSeason['Regions'] = Winter['Regions']"
   ]
  },
  {
   "cell_type": "code",
   "execution_count": null,
   "metadata": {},
   "outputs": [],
   "source": [
    "fig = px.density_contour(WinterSeason, x=\"Temperature\", y=\"lat\", title=\"Temperature Density Points x Latitude\")\n",
    "fig.update_traces(contours_coloring=\"fill\", contours_showlabels = True, colorscale=\"viridis\")\n",
    "fig.update_layout(title_font_color=\"blue\", font_color=\"red\", font_size=20, width=1000, height=650)\n",
    "fig.show()"
   ]
  },
  {
   "cell_type": "markdown",
   "metadata": {},
   "source": [
    "    The number of Data Points are mostly intensified into two regions as per latitude."
   ]
  },
  {
   "cell_type": "code",
   "execution_count": null,
   "metadata": {},
   "outputs": [],
   "source": [
    "fig = px.density_contour(WinterSeason, x=\"Temperature\", y=\"lon\", title=\"Temperature Density Points x Longitude\")\n",
    "fig.update_traces(contours_coloring=\"fill\", contours_showlabels = True, colorscale=\"viridis\")\n",
    "fig.update_layout(title_font_color=\"blue\", font_color=\"red\", font_size=20, width=1000, height=650)\n",
    "fig.show()"
   ]
  },
  {
   "cell_type": "markdown",
   "metadata": {},
   "source": [
    "    The Temperature points are not intensified rather they are widespread in the entire region."
   ]
  },
  {
   "cell_type": "code",
   "execution_count": null,
   "metadata": {},
   "outputs": [],
   "source": [
    "import plotly.graph_objects as graph\n",
    "fig = graph.Figure(data=graph.Violin(y=WinterSeason[\"Temperature\"], box_visible=True, line_color='blue', meanline_visible=True, fillcolor='red', opacity=0.6, points=\"outliers\"))\n",
    "fig.update_layout(title=\"Temperature Distribution in Winter Season\", title_font_size=24, title_font_color=\"lightseagreen\", font_color=\"red\", font_size=18)\n",
    "fig.show()"
   ]
  },
  {
   "cell_type": "markdown",
   "metadata": {},
   "source": [
    "#### Intuition-\n",
    "1. The Mean and Median lines are pretty close to each other. Thus, the data is very well distributed by the median line. Although, there are some outliers present."
   ]
  },
  {
   "cell_type": "code",
   "execution_count": null,
   "metadata": {},
   "outputs": [],
   "source": [
    "fig = graph.Figure(data=graph.Violin(y=WinterSeason[\"Temperature\"], x=WinterSeason['lat'], box_visible=True, line_color='blue', meanline_visible=True, fillcolor='red', opacity=0.6, points=\"outliers\"))\n",
    "fig.update_layout(title=\"Temperature Distribution in Winter Season on Basis Of Latitudes\", title_font_size=24, title_font_color=\"lightseagreen\", font_color=\"red\", font_size=18)\n",
    "fig.show()"
   ]
  },
  {
   "cell_type": "markdown",
   "metadata": {},
   "source": [
    "#### Intuition-\n",
    "1. The outliers of Temperature lie within the Latitude range [0.4545, 0.6818]. Other data points do not have outliers data.\n",
    "2. After latitude 0.4545, the difference or distinction of the mean and median lines become distinct.\n",
    "3. There are 23 unique latitude points in the Winter Season dataset.\n",
    "4. The Temperature data for every latitude values is not much dispersed (the Temperature range is less when distributed across latitudes)."
   ]
  },
  {
   "cell_type": "code",
   "execution_count": null,
   "metadata": {},
   "outputs": [],
   "source": [
    "fig = graph.Figure(data=graph.Violin(y=WinterSeason[\"Temperature\"], x=WinterSeason['lon'], box_visible=True, line_color='blue', meanline_visible=True, fillcolor='red', opacity=0.6, points=\"outliers\"))\n",
    "fig.update_layout(title=\"Temperature Distribution in Winter Season on Basis Of Longitudes\", title_font_size=24, title_font_color=\"lightseagreen\", font_color=\"red\", font_size=18)\n",
    "fig.show()"
   ]
  },
  {
   "cell_type": "markdown",
   "metadata": {},
   "source": [
    "#### Intuitions-\n",
    "1. The outliers of Temperature are widespread.\n",
    "2. After longitude 0.2, the difference or distinction of the mean and median lines become distinct.\n",
    "3. There are 31 unique latitude points in the Winter Season dataset.\n",
    "4. The Temperature data for every longitude values is much dispersed (which was not is the case with latitudes)."
   ]
  },
  {
   "cell_type": "code",
   "execution_count": null,
   "metadata": {},
   "outputs": [],
   "source": [
    "WinterSeason.shape"
   ]
  },
  {
   "cell_type": "markdown",
   "metadata": {},
   "source": [
    "#### The Final Dataset contains 19 columns which have some relevance to the Temperature factor in the Winter Season."
   ]
  },
  {
   "cell_type": "code",
   "execution_count": null,
   "metadata": {},
   "outputs": [],
   "source": [
    "#WinterSeason.to_csv(\"E:/Downloads/Winter_season.csv\", index=False)\n",
    "'''This block to be used only when you are downloading the dataset for the Winter Season.'''"
   ]
  }
 ],
 "metadata": {
  "kernelspec": {
   "display_name": "Python 3 (ipykernel)",
   "language": "python",
   "name": "python3"
  },
  "language_info": {
   "codemirror_mode": {
    "name": "ipython",
    "version": 3
   },
   "file_extension": ".py",
   "mimetype": "text/x-python",
   "name": "python",
   "nbconvert_exporter": "python",
   "pygments_lexer": "ipython3",
   "version": "3.9.13"
  },
  "vscode": {
   "interpreter": {
    "hash": "87970ed34195fef68c8464c6d4e1428c2376dd29de258c9c3dc6f07b1b1cbaab"
   }
  }
 },
 "nbformat": 4,
 "nbformat_minor": 4
}
